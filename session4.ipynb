{
 "cells": [
  {
   "cell_type": "markdown",
   "metadata": {},
   "source": [
    "## Database\n",
    "----\n",
    "\n",
    "RDMS ( Relational Database Management Systems )"
   ]
  },
  {
   "cell_type": "markdown",
   "metadata": {},
   "source": [
    "** Opensource **\n",
    "- MySQL\n",
    "- PostgreSQL\n",
    "- SQLITE \n",
    "\n",
    "** Proprietary **\n",
    "- MSSQL\n",
    "- Oracle"
   ]
  },
  {
   "cell_type": "markdown",
   "metadata": {},
   "source": [
    "[Sqlite3 Python](https://docs.python.org/3.6/library/sqlite3.html)"
   ]
  },
  {
   "cell_type": "code",
   "execution_count": 1,
   "metadata": {
    "collapsed": true
   },
   "outputs": [],
   "source": [
    "import sqlite3 # psycopg2 # pymysql "
   ]
  },
  {
   "cell_type": "code",
   "execution_count": 2,
   "metadata": {
    "collapsed": true
   },
   "outputs": [],
   "source": [
    "conn = sqlite3.connect('example.sqlite3')"
   ]
  },
  {
   "cell_type": "code",
   "execution_count": 3,
   "metadata": {
    "collapsed": true
   },
   "outputs": [],
   "source": [
    "cur = conn.cursor()"
   ]
  },
  {
   "cell_type": "code",
   "execution_count": 4,
   "metadata": {
    "collapsed": false
   },
   "outputs": [
    {
     "data": {
      "text/plain": [
       "<sqlite3.Cursor at 0x7f9764860180>"
      ]
     },
     "execution_count": 4,
     "metadata": {},
     "output_type": "execute_result"
    }
   ],
   "source": [
    "cur.execute('CREATE TABLE countries(id integer, name text, iso3 text)')"
   ]
  },
  {
   "cell_type": "code",
   "execution_count": 5,
   "metadata": {
    "collapsed": false
   },
   "outputs": [
    {
     "data": {
      "text/plain": [
       "<sqlite3.Cursor at 0x7f9764860180>"
      ]
     },
     "execution_count": 5,
     "metadata": {},
     "output_type": "execute_result"
    }
   ],
   "source": [
    "cur.execute('SELECT * FROM countries')"
   ]
  },
  {
   "cell_type": "code",
   "execution_count": 6,
   "metadata": {
    "collapsed": false
   },
   "outputs": [
    {
     "data": {
      "text/plain": [
       "[]"
      ]
     },
     "execution_count": 6,
     "metadata": {},
     "output_type": "execute_result"
    }
   ],
   "source": [
    "cur.fetchall()"
   ]
  },
  {
   "cell_type": "code",
   "execution_count": 8,
   "metadata": {
    "collapsed": false
   },
   "outputs": [
    {
     "data": {
      "text/plain": [
       "<sqlite3.Cursor at 0x7f9764860180>"
      ]
     },
     "execution_count": 8,
     "metadata": {},
     "output_type": "execute_result"
    }
   ],
   "source": [
    "cur.execute('INSERT INTO countries(id, name, iso3) VALUES(1, \"Nepal\", \"NEP\")')"
   ]
  },
  {
   "cell_type": "code",
   "execution_count": 9,
   "metadata": {
    "collapsed": false
   },
   "outputs": [
    {
     "data": {
      "text/plain": [
       "<sqlite3.Cursor at 0x7f9764860180>"
      ]
     },
     "execution_count": 9,
     "metadata": {},
     "output_type": "execute_result"
    }
   ],
   "source": [
    "cur.execute('SELECT * FROM countries')"
   ]
  },
  {
   "cell_type": "code",
   "execution_count": 10,
   "metadata": {
    "collapsed": false
   },
   "outputs": [
    {
     "data": {
      "text/plain": [
       "[(1, 'Nepal', 'NEP')]"
      ]
     },
     "execution_count": 10,
     "metadata": {},
     "output_type": "execute_result"
    }
   ],
   "source": [
    "cur.fetchall()"
   ]
  },
  {
   "cell_type": "code",
   "execution_count": 15,
   "metadata": {
    "collapsed": false
   },
   "outputs": [
    {
     "data": {
      "text/plain": [
       "<sqlite3.Cursor at 0x7f9764860180>"
      ]
     },
     "execution_count": 15,
     "metadata": {},
     "output_type": "execute_result"
    }
   ],
   "source": [
    "sql = '''INSERT INTO countries(id, name, iso3) VALUES(?, ?, ?)'''\n",
    "cur.executemany(sql, [(2, 'India', 'INA'), \n",
    "                      (3, 'Bhutan', 'BHU'), \n",
    "                      (4, 'Afganistan', 'AFG')])"
   ]
  },
  {
   "cell_type": "code",
   "execution_count": 16,
   "metadata": {
    "collapsed": false
   },
   "outputs": [
    {
     "data": {
      "text/plain": [
       "<sqlite3.Cursor at 0x7f9764860180>"
      ]
     },
     "execution_count": 16,
     "metadata": {},
     "output_type": "execute_result"
    }
   ],
   "source": [
    "cur.execute('SELECT * FROM countries')"
   ]
  },
  {
   "cell_type": "code",
   "execution_count": 17,
   "metadata": {
    "collapsed": false
   },
   "outputs": [
    {
     "data": {
      "text/plain": [
       "[(1, 'Nepal', 'NEP'),\n",
       " (2, 'India', 'INA'),\n",
       " (3, 'Bhutan', 'BHU'),\n",
       " (4, 'Afganistan', 'AFG')]"
      ]
     },
     "execution_count": 17,
     "metadata": {},
     "output_type": "execute_result"
    }
   ],
   "source": [
    "cur.fetchall()"
   ]
  },
  {
   "cell_type": "code",
   "execution_count": 18,
   "metadata": {
    "collapsed": false
   },
   "outputs": [
    {
     "data": {
      "text/plain": [
       "<sqlite3.Cursor at 0x7f9764860180>"
      ]
     },
     "execution_count": 18,
     "metadata": {},
     "output_type": "execute_result"
    }
   ],
   "source": [
    "sql = 'INSERT INTO countries(id, name, iso3) VALUES(4, \"Pakistan\", \"PAK\")'\n",
    "cur.execute(sql)"
   ]
  },
  {
   "cell_type": "code",
   "execution_count": 20,
   "metadata": {
    "collapsed": false
   },
   "outputs": [
    {
     "data": {
      "text/plain": [
       "[(1, 'Nepal', 'NEP'),\n",
       " (2, 'India', 'INA'),\n",
       " (3, 'Bhutan', 'BHU'),\n",
       " (4, 'Afganistan', 'AFG'),\n",
       " (4, 'Pakistan', 'PAK')]"
      ]
     },
     "execution_count": 20,
     "metadata": {},
     "output_type": "execute_result"
    }
   ],
   "source": [
    "cur.execute('SELECT * FROM countries')\n",
    "cur.fetchall()"
   ]
  },
  {
   "cell_type": "code",
   "execution_count": 21,
   "metadata": {
    "collapsed": false
   },
   "outputs": [
    {
     "data": {
      "text/plain": [
       "<sqlite3.Cursor at 0x7f9764860180>"
      ]
     },
     "execution_count": 21,
     "metadata": {},
     "output_type": "execute_result"
    }
   ],
   "source": [
    "sql = 'UPDATE countries SET id=5 WHERE iso3=\"PAK\"'\n",
    "cur.execute(sql)"
   ]
  },
  {
   "cell_type": "code",
   "execution_count": 22,
   "metadata": {
    "collapsed": false
   },
   "outputs": [
    {
     "data": {
      "text/plain": [
       "[(1, 'Nepal', 'NEP'),\n",
       " (2, 'India', 'INA'),\n",
       " (3, 'Bhutan', 'BHU'),\n",
       " (4, 'Afganistan', 'AFG'),\n",
       " (5, 'Pakistan', 'PAK')]"
      ]
     },
     "execution_count": 22,
     "metadata": {},
     "output_type": "execute_result"
    }
   ],
   "source": [
    "cur.execute('SELECT * FROM countries')\n",
    "cur.fetchall()"
   ]
  },
  {
   "cell_type": "code",
   "execution_count": 23,
   "metadata": {
    "collapsed": false
   },
   "outputs": [
    {
     "data": {
      "text/plain": [
       "<sqlite3.Cursor at 0x7f9764860180>"
      ]
     },
     "execution_count": 23,
     "metadata": {},
     "output_type": "execute_result"
    }
   ],
   "source": [
    "sql = 'UPDATE countries SET id=5'\n",
    "cur.execute(sql)"
   ]
  },
  {
   "cell_type": "code",
   "execution_count": 24,
   "metadata": {
    "collapsed": false
   },
   "outputs": [
    {
     "data": {
      "text/plain": [
       "[(5, 'Nepal', 'NEP'),\n",
       " (5, 'India', 'INA'),\n",
       " (5, 'Bhutan', 'BHU'),\n",
       " (5, 'Afganistan', 'AFG'),\n",
       " (5, 'Pakistan', 'PAK')]"
      ]
     },
     "execution_count": 24,
     "metadata": {},
     "output_type": "execute_result"
    }
   ],
   "source": [
    "cur.execute('SELECT * FROM countries')\n",
    "cur.fetchall()"
   ]
  },
  {
   "cell_type": "code",
   "execution_count": 26,
   "metadata": {
    "collapsed": false
   },
   "outputs": [],
   "source": [
    "conn.commit()"
   ]
  },
  {
   "cell_type": "code",
   "execution_count": 27,
   "metadata": {
    "collapsed": false
   },
   "outputs": [
    {
     "data": {
      "text/plain": [
       "[(1, 'Nepal', 'NEP'),\n",
       " (2, 'India', 'INA'),\n",
       " (3, 'Bhutan', 'BHU'),\n",
       " (4, 'Afganistan', 'AFG'),\n",
       " (5, 'Pakistan', 'PAK')]"
      ]
     },
     "execution_count": 27,
     "metadata": {},
     "output_type": "execute_result"
    }
   ],
   "source": [
    "cur.execute('SELECT * FROM countries')\n",
    "cur.fetchall()"
   ]
  },
  {
   "cell_type": "code",
   "execution_count": 28,
   "metadata": {
    "collapsed": false
   },
   "outputs": [
    {
     "data": {
      "text/plain": [
       "[(4, 'Afganistan', 'AFG')]"
      ]
     },
     "execution_count": 28,
     "metadata": {},
     "output_type": "execute_result"
    }
   ],
   "source": [
    "cur.execute('SELECT * FROM countries WHERE id=4')\n",
    "cur.fetchall()"
   ]
  },
  {
   "cell_type": "code",
   "execution_count": 30,
   "metadata": {
    "collapsed": false
   },
   "outputs": [
    {
     "data": {
      "text/plain": [
       "[(4, 'Afganistan', 'AFG'), (5, 'Pakistan', 'PAK')]"
      ]
     },
     "execution_count": 30,
     "metadata": {},
     "output_type": "execute_result"
    }
   ],
   "source": [
    "cur.execute('SELECT * FROM countries WHERE id>3')\n",
    "cur.fetchall()"
   ]
  },
  {
   "cell_type": "code",
   "execution_count": 31,
   "metadata": {
    "collapsed": false
   },
   "outputs": [
    {
     "data": {
      "text/plain": [
       "[(3, 'Bhutan', 'BHU'), (4, 'Afganistan', 'AFG'), (5, 'Pakistan', 'PAK')]"
      ]
     },
     "execution_count": 31,
     "metadata": {},
     "output_type": "execute_result"
    }
   ],
   "source": [
    "cur.execute('SELECT * FROM countries WHERE name LIKE \"%an\"')\n",
    "cur.fetchall()"
   ]
  },
  {
   "cell_type": "code",
   "execution_count": 32,
   "metadata": {
    "collapsed": false
   },
   "outputs": [
    {
     "data": {
      "text/plain": [
       "[(3, 'Bhutan', 'BHU'), (4, 'Afganistan', 'AFG'), (5, 'Pakistan', 'PAK')]"
      ]
     },
     "execution_count": 32,
     "metadata": {},
     "output_type": "execute_result"
    }
   ],
   "source": [
    "cur.execute('SELECT * FROM countries WHERE name LIKE \"%an%\"')\n",
    "cur.fetchall()"
   ]
  },
  {
   "cell_type": "code",
   "execution_count": 33,
   "metadata": {
    "collapsed": false
   },
   "outputs": [
    {
     "data": {
      "text/plain": [
       "[]"
      ]
     },
     "execution_count": 33,
     "metadata": {},
     "output_type": "execute_result"
    }
   ],
   "source": [
    "cur.execute('SELECT * FROM countries WHERE name LIKE \"an%\"')\n",
    "cur.fetchall()"
   ]
  },
  {
   "cell_type": "code",
   "execution_count": 35,
   "metadata": {
    "collapsed": false
   },
   "outputs": [
    {
     "data": {
      "text/plain": [
       "<sqlite3.Cursor at 0x7f9764860180>"
      ]
     },
     "execution_count": 35,
     "metadata": {},
     "output_type": "execute_result"
    }
   ],
   "source": [
    "cur.execute('DELETE FROM countries')"
   ]
  },
  {
   "cell_type": "code",
   "execution_count": 36,
   "metadata": {
    "collapsed": false
   },
   "outputs": [
    {
     "data": {
      "text/plain": [
       "[]"
      ]
     },
     "execution_count": 36,
     "metadata": {},
     "output_type": "execute_result"
    }
   ],
   "source": [
    "cur.execute('SELECT * FROM countries')\n",
    "cur.fetchall()"
   ]
  },
  {
   "cell_type": "code",
   "execution_count": 37,
   "metadata": {
    "collapsed": true
   },
   "outputs": [],
   "source": [
    "conn.commit()"
   ]
  },
  {
   "cell_type": "code",
   "execution_count": 34,
   "metadata": {
    "collapsed": true
   },
   "outputs": [],
   "source": [
    "import csv"
   ]
  },
  {
   "cell_type": "code",
   "execution_count": 43,
   "metadata": {
    "collapsed": false
   },
   "outputs": [],
   "source": [
    "sql = 'INSERT INTO countries(id, name, iso3) VALUES(?, ?, ?)'\n",
    "_id = 1\n",
    "with open('untitled.txt', 'r') as datafile:\n",
    "    csvfile = csv.DictReader(datafile)\n",
    "    for row in csvfile:\n",
    "        if row['euname'] and row['iso3']:\n",
    "            cur.execute(sql, (_id, row['euname'], row['iso3']))\n",
    "            _id += 1\n",
    "conn.commit()"
   ]
  },
  {
   "cell_type": "code",
   "execution_count": 44,
   "metadata": {
    "collapsed": false
   },
   "outputs": [
    {
     "data": {
      "text/plain": [
       "[(1, 'AFGHANISTAN', 'AFG'),\n",
       " (2, 'Albania', 'ALB'),\n",
       " (3, 'ALGERIA', 'DZA'),\n",
       " (4, 'ANDORRA', 'AND'),\n",
       " (5, 'ANGOLA', 'AGO'),\n",
       " (6, 'ANTIGUA AND BARBUDA', 'ATG'),\n",
       " (7, 'Argentina', 'ARG'),\n",
       " (8, 'Armenia', 'ARM'),\n",
       " (9, 'ARUBA', 'ABW'),\n",
       " (10, 'Australia', 'AUS'),\n",
       " (11, 'Austria', 'AUT'),\n",
       " (12, 'AZERBAIJAN', 'AZE'),\n",
       " (13, 'BAHAMAS', 'BHS'),\n",
       " (14, 'BAHRAIN', 'BHR'),\n",
       " (15, 'BANGLADESH', 'BGD'),\n",
       " (16, 'Barbados', 'BRB'),\n",
       " (17, 'BELARUS', 'BLR'),\n",
       " (18, 'Belgium', 'BEL'),\n",
       " (19, 'BELIZE', 'BLZ'),\n",
       " (20, 'Benin', 'BEN'),\n",
       " (21, 'BHUTAN', 'BTN'),\n",
       " (22, 'BOLIVIA', 'BOL'),\n",
       " (23, 'Bosnia-Herzegovina', 'BIH'),\n",
       " (24, 'BOTSWANA', 'BWA'),\n",
       " (25, 'Brazil', 'BRA'),\n",
       " (26, 'British Virgin Islands', 'VGB'),\n",
       " (27, 'BRUNEI', 'BRN'),\n",
       " (28, 'Bulgaria', 'BGR'),\n",
       " (29, 'BURKINA FASO', 'BFA'),\n",
       " (30, 'BURUNDI', 'BDI'),\n",
       " (31, 'Cambodia', 'KHM'),\n",
       " (32, 'Cameroon', 'CMR'),\n",
       " (33, 'Canada', 'CAN'),\n",
       " (34, 'CAPE VERDE', 'CPV'),\n",
       " (35, 'CENTRAL AFRICAN, REPUBLIC', 'CAF'),\n",
       " (36, 'Chad', 'TCD'),\n",
       " (37, 'CHILE', 'CHL'),\n",
       " (38, 'CHINA', 'CHN'),\n",
       " (39, 'Colombia', 'COL'),\n",
       " (40, 'COMOROS', 'COM'),\n",
       " (41, 'CONGO', 'COG'),\n",
       " (42, 'CONGO, DEMOCRATIC REPUBLIC OF', 'ZAR'),\n",
       " (43, 'COOK ISLANDS', 'COK'),\n",
       " (44, 'Costa Rica', 'CRI'),\n",
       " (45, 'Croatia', 'HRV'),\n",
       " (46, 'CUBA', 'CUB'),\n",
       " (1, 'AFGHANISTAN', 'AFG'),\n",
       " (2, 'Albania', 'ALB'),\n",
       " (3, 'ALGERIA', 'DZA'),\n",
       " (4, 'ANDORRA', 'AND'),\n",
       " (5, 'ANGOLA', 'AGO'),\n",
       " (6, 'ANTIGUA AND BARBUDA', 'ATG'),\n",
       " (7, 'Argentina', 'ARG'),\n",
       " (8, 'Armenia', 'ARM'),\n",
       " (9, 'ARUBA', 'ABW'),\n",
       " (10, 'Australia', 'AUS'),\n",
       " (11, 'Austria', 'AUT'),\n",
       " (12, 'AZERBAIJAN', 'AZE'),\n",
       " (13, 'BAHAMAS', 'BHS'),\n",
       " (14, 'BAHRAIN', 'BHR'),\n",
       " (15, 'BANGLADESH', 'BGD'),\n",
       " (16, 'Barbados', 'BRB'),\n",
       " (17, 'BELARUS', 'BLR'),\n",
       " (18, 'Belgium', 'BEL'),\n",
       " (19, 'BELIZE', 'BLZ'),\n",
       " (20, 'Benin', 'BEN'),\n",
       " (21, 'BHUTAN', 'BTN'),\n",
       " (22, 'BOLIVIA', 'BOL'),\n",
       " (23, 'Bosnia-Herzegovina', 'BIH'),\n",
       " (24, 'BOTSWANA', 'BWA'),\n",
       " (25, 'Brazil', 'BRA'),\n",
       " (26, 'British Virgin Islands', 'VGB'),\n",
       " (27, 'BRUNEI', 'BRN'),\n",
       " (28, 'Bulgaria', 'BGR'),\n",
       " (29, 'BURKINA FASO', 'BFA'),\n",
       " (30, 'BURUNDI', 'BDI'),\n",
       " (31, 'Cambodia', 'KHM'),\n",
       " (32, 'Cameroon', 'CMR'),\n",
       " (33, 'Canada', 'CAN'),\n",
       " (34, 'CAPE VERDE', 'CPV'),\n",
       " (35, 'CENTRAL AFRICAN, REPUBLIC', 'CAF'),\n",
       " (36, 'Chad', 'TCD'),\n",
       " (37, 'CHILE', 'CHL'),\n",
       " (38, 'CHINA', 'CHN'),\n",
       " (39, 'Colombia', 'COL'),\n",
       " (40, 'COMOROS', 'COM'),\n",
       " (41, 'CONGO', 'COG'),\n",
       " (42, 'CONGO, DEMOCRATIC REPUBLIC OF', 'ZAR'),\n",
       " (43, 'COOK ISLANDS', 'COK'),\n",
       " (44, 'Costa Rica', 'CRI'),\n",
       " (45, 'Croatia', 'HRV'),\n",
       " (46, 'CUBA', 'CUB')]"
      ]
     },
     "execution_count": 44,
     "metadata": {},
     "output_type": "execute_result"
    }
   ],
   "source": [
    "cur.execute('SELECT * FROM countries')\n",
    "cur.fetchall()"
   ]
  },
  {
   "cell_type": "code",
   "execution_count": 42,
   "metadata": {
    "collapsed": false
   },
   "outputs": [
    {
     "data": {
      "text/plain": [
       "<sqlite3.Cursor at 0x7f9764860180>"
      ]
     },
     "execution_count": 42,
     "metadata": {},
     "output_type": "execute_result"
    }
   ],
   "source": [
    "sql = '''CREATE TABLE \n",
    "country_list(id integer primary key autoincrement,\n",
    "country_name text not null,\n",
    "iso3 text not null unique)'''\n",
    "cur.execute(sql)"
   ]
  },
  {
   "cell_type": "code",
   "execution_count": 47,
   "metadata": {
    "collapsed": false
   },
   "outputs": [],
   "source": [
    "sql = 'INSERT INTO country_list(country_name, iso3) VALUES(?, ?)'\n",
    "with open('untitled.txt', 'r') as datafile:\n",
    "    csvfile = csv.DictReader(datafile)\n",
    "    for row in csvfile:\n",
    "        if row['euname'] and row['iso3']:\n",
    "            cur.execute(sql, (row['euname'], row['iso3']))\n",
    "conn.commit()"
   ]
  },
  {
   "cell_type": "code",
   "execution_count": 49,
   "metadata": {
    "collapsed": false
   },
   "outputs": [
    {
     "data": {
      "text/plain": [
       "[(1, 'AFGHANISTAN', 'AFG'),\n",
       " (2, 'Albania', 'ALB'),\n",
       " (3, 'ALGERIA', 'DZA'),\n",
       " (4, 'ANDORRA', 'AND'),\n",
       " (5, 'ANGOLA', 'AGO'),\n",
       " (6, 'ANTIGUA AND BARBUDA', 'ATG'),\n",
       " (7, 'Argentina', 'ARG'),\n",
       " (8, 'Armenia', 'ARM'),\n",
       " (9, 'ARUBA', 'ABW'),\n",
       " (10, 'Australia', 'AUS'),\n",
       " (11, 'Austria', 'AUT'),\n",
       " (12, 'AZERBAIJAN', 'AZE'),\n",
       " (13, 'BAHAMAS', 'BHS'),\n",
       " (14, 'BAHRAIN', 'BHR'),\n",
       " (15, 'BANGLADESH', 'BGD'),\n",
       " (16, 'Barbados', 'BRB'),\n",
       " (17, 'BELARUS', 'BLR'),\n",
       " (18, 'Belgium', 'BEL'),\n",
       " (19, 'BELIZE', 'BLZ'),\n",
       " (20, 'Benin', 'BEN'),\n",
       " (21, 'BHUTAN', 'BTN'),\n",
       " (22, 'BOLIVIA', 'BOL'),\n",
       " (23, 'Bosnia-Herzegovina', 'BIH'),\n",
       " (24, 'BOTSWANA', 'BWA'),\n",
       " (25, 'Brazil', 'BRA'),\n",
       " (26, 'British Virgin Islands', 'VGB'),\n",
       " (27, 'BRUNEI', 'BRN'),\n",
       " (28, 'Bulgaria', 'BGR'),\n",
       " (29, 'BURKINA FASO', 'BFA'),\n",
       " (30, 'BURUNDI', 'BDI'),\n",
       " (31, 'Cambodia', 'KHM'),\n",
       " (32, 'Cameroon', 'CMR'),\n",
       " (33, 'Canada', 'CAN'),\n",
       " (34, 'CAPE VERDE', 'CPV'),\n",
       " (35, 'CENTRAL AFRICAN, REPUBLIC', 'CAF'),\n",
       " (36, 'Chad', 'TCD'),\n",
       " (37, 'CHILE', 'CHL'),\n",
       " (38, 'CHINA', 'CHN'),\n",
       " (39, 'Colombia', 'COL'),\n",
       " (40, 'COMOROS', 'COM'),\n",
       " (41, 'CONGO', 'COG'),\n",
       " (42, 'CONGO, DEMOCRATIC REPUBLIC OF', 'ZAR'),\n",
       " (43, 'COOK ISLANDS', 'COK'),\n",
       " (44, 'Costa Rica', 'CRI'),\n",
       " (45, 'Croatia', 'HRV'),\n",
       " (46, 'CUBA', 'CUB')]"
      ]
     },
     "execution_count": 49,
     "metadata": {},
     "output_type": "execute_result"
    }
   ],
   "source": [
    "cur.execute('SELECT * FROM country_list')\n",
    "cur.fetchall()"
   ]
  },
  {
   "cell_type": "code",
   "execution_count": 53,
   "metadata": {
    "collapsed": false
   },
   "outputs": [
    {
     "data": {
      "text/plain": [
       "<sqlite3.Cursor at 0x7f9764860180>"
      ]
     },
     "execution_count": 53,
     "metadata": {},
     "output_type": "execute_result"
    }
   ],
   "source": [
    "cur.execute('''INSERT INTO country_list(id, country_name, iso3)\n",
    "VALUES(47, 'Cuba', 'CCB')''')"
   ]
  },
  {
   "cell_type": "code",
   "execution_count": 54,
   "metadata": {
    "collapsed": false
   },
   "outputs": [
    {
     "data": {
      "text/plain": [
       "[(1, 'AFGHANISTAN', 'AFG'),\n",
       " (2, 'Albania', 'ALB'),\n",
       " (3, 'ALGERIA', 'DZA'),\n",
       " (4, 'ANDORRA', 'AND'),\n",
       " (5, 'ANGOLA', 'AGO'),\n",
       " (6, 'ANTIGUA AND BARBUDA', 'ATG'),\n",
       " (7, 'Argentina', 'ARG'),\n",
       " (8, 'Armenia', 'ARM'),\n",
       " (9, 'ARUBA', 'ABW'),\n",
       " (10, 'Australia', 'AUS'),\n",
       " (11, 'Austria', 'AUT'),\n",
       " (12, 'AZERBAIJAN', 'AZE'),\n",
       " (13, 'BAHAMAS', 'BHS'),\n",
       " (14, 'BAHRAIN', 'BHR'),\n",
       " (15, 'BANGLADESH', 'BGD'),\n",
       " (16, 'Barbados', 'BRB'),\n",
       " (17, 'BELARUS', 'BLR'),\n",
       " (18, 'Belgium', 'BEL'),\n",
       " (19, 'BELIZE', 'BLZ'),\n",
       " (20, 'Benin', 'BEN'),\n",
       " (21, 'BHUTAN', 'BTN'),\n",
       " (22, 'BOLIVIA', 'BOL'),\n",
       " (23, 'Bosnia-Herzegovina', 'BIH'),\n",
       " (24, 'BOTSWANA', 'BWA'),\n",
       " (25, 'Brazil', 'BRA'),\n",
       " (26, 'British Virgin Islands', 'VGB'),\n",
       " (27, 'BRUNEI', 'BRN'),\n",
       " (28, 'Bulgaria', 'BGR'),\n",
       " (29, 'BURKINA FASO', 'BFA'),\n",
       " (30, 'BURUNDI', 'BDI'),\n",
       " (31, 'Cambodia', 'KHM'),\n",
       " (32, 'Cameroon', 'CMR'),\n",
       " (33, 'Canada', 'CAN'),\n",
       " (34, 'CAPE VERDE', 'CPV'),\n",
       " (35, 'CENTRAL AFRICAN, REPUBLIC', 'CAF'),\n",
       " (36, 'Chad', 'TCD'),\n",
       " (37, 'CHILE', 'CHL'),\n",
       " (38, 'CHINA', 'CHN'),\n",
       " (39, 'Colombia', 'COL'),\n",
       " (40, 'COMOROS', 'COM'),\n",
       " (41, 'CONGO', 'COG'),\n",
       " (42, 'CONGO, DEMOCRATIC REPUBLIC OF', 'ZAR'),\n",
       " (43, 'COOK ISLANDS', 'COK'),\n",
       " (44, 'Costa Rica', 'CRI'),\n",
       " (45, 'Croatia', 'HRV'),\n",
       " (46, 'CUBA', 'CUB'),\n",
       " (47, 'Cuba', 'CCB')]"
      ]
     },
     "execution_count": 54,
     "metadata": {},
     "output_type": "execute_result"
    }
   ],
   "source": [
    "cur.execute('SELECT * FROM country_list')\n",
    "cur.fetchall()"
   ]
  },
  {
   "cell_type": "code",
   "execution_count": null,
   "metadata": {
    "collapsed": true
   },
   "outputs": [],
   "source": [
    "class Book:\n",
    "    id = None\n",
    "    name = None\n",
    "    isbn = None\n",
    "    \n",
    "    def __init__(self, name, isbn):\n",
    "        self.name = name\n",
    "        self.isbn = isbn\n",
    "    \n",
    "    def save(self):\n",
    "        if self.id:\n",
    "            cur.execute('UPDATE books SET name=?,isbn=? WHERE id=?',\n",
    "                        (self.name, self.isbn, self.id))\n",
    "        else:\n",
    "            cur.execute('INSERT INTO books(name, isbn) VALUES(?, ?)',\n",
    "                        (self.name, self.isbn))\n",
    "    \n",
    "    @staticmethod\n",
    "    def get_books_by_name(name):\n",
    "        cur.execute('SELECT * FROM books WHERE name LIKE \"%?%', \n",
    "                    (name,))\n",
    "        return cur.fetchall()\n",
    "    \n",
    "    @staticmethod\n",
    "    def get_all_books():\n",
    "        pass\n",
    "    \n",
    "    @staticmethod\n",
    "    def get_book_by_id(_id):\n",
    "        cur.execute('SELECT * FROM books WHERE id=?', (_id,))\n",
    "        result = cur.fetchone()\n",
    "        if result:\n",
    "            book = Book()\n",
    "            book.id, book.name, book.isbn = result\n",
    "            return book\n",
    "        return None"
   ]
  },
  {
   "cell_type": "code",
   "execution_count": null,
   "metadata": {
    "collapsed": true
   },
   "outputs": [],
   "source": [
    "book1 = Book('Learn nepali', 'akshdkajjsdhk')\n",
    "book1.save()"
   ]
  },
  {
   "cell_type": "code",
   "execution_count": null,
   "metadata": {
    "collapsed": true
   },
   "outputs": [],
   "source": [
    "Book.get_books_by_name('Learning')"
   ]
  },
  {
   "cell_type": "code",
   "execution_count": null,
   "metadata": {
    "collapsed": true
   },
   "outputs": [],
   "source": [
    "book2 = Book.get_book_by_id(4)\n",
    "book2.name = 'New Name'\n",
    "book2.save()"
   ]
  },
  {
   "cell_type": "markdown",
   "metadata": {},
   "source": [
    "```python\n",
    "\n",
    "class Temperature:\n",
    "    temp = 10\n",
    "    \n",
    "    def __init__(self, temp):\n",
    "        self.temp = temp\n",
    "   \n",
    "    def get_temperature(self):\n",
    "        return self.temp\n",
    "    \n",
    "    @classmethod\n",
    "    def get_class_temperature(cls):\n",
    "        return cls.temp\n",
    "    \n",
    "    @staticmethod\n",
    "    def get_added_temp(inst):\n",
    "        return inst.temp + Temperature.temp\n",
    "\n",
    "t = Temperature(20)\n",
    "# t = Temperature() --> Temperature.__init__(t, 20)\n",
    "t.get_temperature() # 20\n",
    "# Temperature.get_temperature(t)\n",
    "Temperature.get_class_temperature() # 10\n",
    "# Temperature.get_class_temperature(Temperature)\n",
    "Temperature.get_added_temp(t)\n",
    "# Temperature.get_added_temp(t)\n",
    "```"
   ]
  },
  {
   "cell_type": "code",
   "execution_count": null,
   "metadata": {
    "collapsed": true
   },
   "outputs": [],
   "source": []
  },
  {
   "cell_type": "code",
   "execution_count": null,
   "metadata": {
    "collapsed": true
   },
   "outputs": [],
   "source": []
  },
  {
   "cell_type": "code",
   "execution_count": null,
   "metadata": {
    "collapsed": true
   },
   "outputs": [],
   "source": []
  },
  {
   "cell_type": "code",
   "execution_count": null,
   "metadata": {
    "collapsed": true
   },
   "outputs": [],
   "source": []
  },
  {
   "cell_type": "code",
   "execution_count": null,
   "metadata": {
    "collapsed": true
   },
   "outputs": [],
   "source": []
  }
 ],
 "metadata": {
  "kernelspec": {
   "display_name": "Python 3",
   "language": "python",
   "name": "python3"
  },
  "language_info": {
   "codemirror_mode": {
    "name": "ipython",
    "version": 3
   },
   "file_extension": ".py",
   "mimetype": "text/x-python",
   "name": "python",
   "nbconvert_exporter": "python",
   "pygments_lexer": "ipython3",
   "version": "3.5.1"
  }
 },
 "nbformat": 4,
 "nbformat_minor": 0
}
