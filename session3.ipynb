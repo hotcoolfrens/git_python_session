{
 "cells": [
  {
   "cell_type": "markdown",
   "metadata": {},
   "source": [
    "# Session 3\n",
    "---"
   ]
  },
  {
   "cell_type": "code",
   "execution_count": 1,
   "metadata": {
    "collapsed": false
   },
   "outputs": [
    {
     "data": {
      "text/plain": [
       "range(0, 9)"
      ]
     },
     "execution_count": 1,
     "metadata": {},
     "output_type": "execute_result"
    }
   ],
   "source": [
    "range(0, 9)"
   ]
  },
  {
   "cell_type": "code",
   "execution_count": 2,
   "metadata": {
    "collapsed": false
   },
   "outputs": [
    {
     "name": "stdout",
     "output_type": "stream",
     "text": [
      "0\n",
      "1\n",
      "2\n",
      "3\n",
      "4\n",
      "5\n",
      "6\n",
      "7\n",
      "8\n"
     ]
    }
   ],
   "source": [
    "for i in range(0, 9):\n",
    "    print(i)"
   ]
  },
  {
   "cell_type": "code",
   "execution_count": 4,
   "metadata": {
    "collapsed": false
   },
   "outputs": [
    {
     "data": {
      "text/plain": [
       "[0, 1, 2, 3, 4, 5, 6, 7, 8]"
      ]
     },
     "execution_count": 4,
     "metadata": {},
     "output_type": "execute_result"
    }
   ],
   "source": [
    "list(range(0, 9))"
   ]
  },
  {
   "cell_type": "code",
   "execution_count": 5,
   "metadata": {
    "collapsed": false
   },
   "outputs": [
    {
     "data": {
      "text/plain": [
       "1"
      ]
     },
     "execution_count": 5,
     "metadata": {},
     "output_type": "execute_result"
    }
   ],
   "source": [
    "int('1')"
   ]
  },
  {
   "cell_type": "code",
   "execution_count": 6,
   "metadata": {
    "collapsed": false
   },
   "outputs": [
    {
     "data": {
      "text/plain": [
       "'1'"
      ]
     },
     "execution_count": 6,
     "metadata": {},
     "output_type": "execute_result"
    }
   ],
   "source": [
    "str(1)"
   ]
  },
  {
   "cell_type": "code",
   "execution_count": 7,
   "metadata": {
    "collapsed": false
   },
   "outputs": [
    {
     "ename": "ValueError",
     "evalue": "invalid literal for int() with base 10: 'a'",
     "output_type": "error",
     "traceback": [
      "\u001b[0;31m---------------------------------------------------------------------------\u001b[0m",
      "\u001b[0;31mValueError\u001b[0m                                Traceback (most recent call last)",
      "\u001b[0;32m<ipython-input-7-b3c3f4515dd4>\u001b[0m in \u001b[0;36m<module>\u001b[0;34m()\u001b[0m\n\u001b[0;32m----> 1\u001b[0;31m \u001b[0mint\u001b[0m\u001b[0;34m(\u001b[0m\u001b[0;34m'a'\u001b[0m\u001b[0;34m)\u001b[0m\u001b[0;34m\u001b[0m\u001b[0m\n\u001b[0m",
      "\u001b[0;31mValueError\u001b[0m: invalid literal for int() with base 10: 'a'"
     ]
    }
   ],
   "source": [
    "int('a')"
   ]
  },
  {
   "cell_type": "code",
   "execution_count": 8,
   "metadata": {
    "collapsed": false
   },
   "outputs": [
    {
     "data": {
      "text/plain": [
       "['a', 'b', 'c', 's', 'd']"
      ]
     },
     "execution_count": 8,
     "metadata": {},
     "output_type": "execute_result"
    }
   ],
   "source": [
    "list('abcsd')"
   ]
  },
  {
   "cell_type": "code",
   "execution_count": 9,
   "metadata": {
    "collapsed": false
   },
   "outputs": [
    {
     "data": {
      "text/plain": [
       "('k', 'a', 't', 'h', 'm', 'a', 'n', 'd', 'u')"
      ]
     },
     "execution_count": 9,
     "metadata": {},
     "output_type": "execute_result"
    }
   ],
   "source": [
    "tuple('kathmandu')"
   ]
  },
  {
   "cell_type": "code",
   "execution_count": 10,
   "metadata": {
    "collapsed": false
   },
   "outputs": [
    {
     "data": {
      "text/plain": [
       "['255', '255', '255', '0']"
      ]
     },
     "execution_count": 10,
     "metadata": {},
     "output_type": "execute_result"
    }
   ],
   "source": [
    "list(('255', '255', '255', '0'))"
   ]
  },
  {
   "cell_type": "code",
   "execution_count": 11,
   "metadata": {
    "collapsed": false
   },
   "outputs": [
    {
     "data": {
      "text/plain": [
       "(255, 255, 254, 0)"
      ]
     },
     "execution_count": 11,
     "metadata": {},
     "output_type": "execute_result"
    }
   ],
   "source": [
    "tuple([255, 255, 254, 0])"
   ]
  },
  {
   "cell_type": "code",
   "execution_count": 12,
   "metadata": {
    "collapsed": false
   },
   "outputs": [
    {
     "data": {
      "text/plain": [
       "('abc',)"
      ]
     },
     "execution_count": 12,
     "metadata": {},
     "output_type": "execute_result"
    }
   ],
   "source": [
    "tuple({'abc': 123})"
   ]
  },
  {
   "cell_type": "code",
   "execution_count": 13,
   "metadata": {
    "collapsed": false
   },
   "outputs": [
    {
     "ename": "ValueError",
     "evalue": "dictionary update sequence element #0 has length 4; 2 is required",
     "output_type": "error",
     "traceback": [
      "\u001b[0;31m---------------------------------------------------------------------------\u001b[0m",
      "\u001b[0;31mValueError\u001b[0m                                Traceback (most recent call last)",
      "\u001b[0;32m<ipython-input-13-52fe23237bf6>\u001b[0m in \u001b[0;36m<module>\u001b[0;34m()\u001b[0m\n\u001b[0;32m----> 1\u001b[0;31m \u001b[0mdict\u001b[0m\u001b[0;34m(\u001b[0m\u001b[0;34m(\u001b[0m\u001b[0;34m'name'\u001b[0m\u001b[0;34m,\u001b[0m \u001b[0;34m'hari'\u001b[0m\u001b[0;34m)\u001b[0m\u001b[0;34m)\u001b[0m\u001b[0;34m\u001b[0m\u001b[0m\n\u001b[0m",
      "\u001b[0;31mValueError\u001b[0m: dictionary update sequence element #0 has length 4; 2 is required"
     ]
    }
   ],
   "source": [
    "dict(('name', 'hari'))"
   ]
  },
  {
   "cell_type": "code",
   "execution_count": 14,
   "metadata": {
    "collapsed": false
   },
   "outputs": [
    {
     "data": {
      "text/plain": [
       "['abc']"
      ]
     },
     "execution_count": 14,
     "metadata": {},
     "output_type": "execute_result"
    }
   ],
   "source": [
    "list({'abc': 123})"
   ]
  },
  {
   "cell_type": "code",
   "execution_count": 15,
   "metadata": {
    "collapsed": false
   },
   "outputs": [
    {
     "name": "stdout",
     "output_type": "stream",
     "text": [
      "a\n"
     ]
    }
   ],
   "source": [
    "for item in {'a': 1}:\n",
    "    print(item)"
   ]
  },
  {
   "cell_type": "code",
   "execution_count": 16,
   "metadata": {
    "collapsed": false
   },
   "outputs": [
    {
     "data": {
      "text/plain": [
       "{'name': 'hari'}"
      ]
     },
     "execution_count": 16,
     "metadata": {},
     "output_type": "execute_result"
    }
   ],
   "source": [
    "dict([('name', 'hari')])"
   ]
  },
  {
   "cell_type": "code",
   "execution_count": null,
   "metadata": {
    "collapsed": true
   },
   "outputs": [],
   "source": []
  },
  {
   "cell_type": "code",
   "execution_count": 19,
   "metadata": {
    "collapsed": true
   },
   "outputs": [],
   "source": [
    "lst = []\n",
    "for i in range(0, 50):\n",
    "    if i % 5 == 0:\n",
    "        lst.append(i ** 2)"
   ]
  },
  {
   "cell_type": "code",
   "execution_count": 20,
   "metadata": {
    "collapsed": false
   },
   "outputs": [
    {
     "data": {
      "text/plain": [
       "[0, 25, 100, 225, 400, 625, 900, 1225, 1600, 2025]"
      ]
     },
     "execution_count": 20,
     "metadata": {},
     "output_type": "execute_result"
    }
   ],
   "source": [
    "lst"
   ]
  },
  {
   "cell_type": "code",
   "execution_count": 21,
   "metadata": {
    "collapsed": false
   },
   "outputs": [
    {
     "data": {
      "text/plain": [
       "[0, 25, 100, 225, 400, 625, 900, 1225, 1600, 2025]"
      ]
     },
     "execution_count": 21,
     "metadata": {},
     "output_type": "execute_result"
    }
   ],
   "source": [
    "# list comprehension\n",
    "[i**2 for i in range(0, 50) if i % 5 == 0]"
   ]
  },
  {
   "cell_type": "code",
   "execution_count": 23,
   "metadata": {
    "collapsed": false
   },
   "outputs": [],
   "source": [
    "lst = [i**2 if i % 2 == 0 else i for i in range(0, 9)]"
   ]
  },
  {
   "cell_type": "code",
   "execution_count": 24,
   "metadata": {
    "collapsed": false
   },
   "outputs": [
    {
     "data": {
      "text/plain": [
       "[0, 1, 4, 3, 16, 5, 36, 7, 64]"
      ]
     },
     "execution_count": 24,
     "metadata": {},
     "output_type": "execute_result"
    }
   ],
   "source": [
    "lst"
   ]
  },
  {
   "cell_type": "code",
   "execution_count": 26,
   "metadata": {
    "collapsed": false
   },
   "outputs": [
    {
     "data": {
      "text/plain": [
       "1"
      ]
     },
     "execution_count": 26,
     "metadata": {},
     "output_type": "execute_result"
    }
   ],
   "source": [
    "i = 1\n",
    "i**2 if i % 2 == 0 else i"
   ]
  },
  {
   "cell_type": "code",
   "execution_count": 27,
   "metadata": {
    "collapsed": false
   },
   "outputs": [
    {
     "data": {
      "text/plain": [
       "4"
      ]
     },
     "execution_count": 27,
     "metadata": {},
     "output_type": "execute_result"
    }
   ],
   "source": [
    "i = 2\n",
    "i**2 if i % 2 == 0 else i"
   ]
  },
  {
   "cell_type": "code",
   "execution_count": 28,
   "metadata": {
    "collapsed": false
   },
   "outputs": [
    {
     "data": {
      "text/plain": [
       "{0, 2, 3, 4, 6, 8, 9, 10, 12, 14, 15, 16, 18}"
      ]
     },
     "execution_count": 28,
     "metadata": {},
     "output_type": "execute_result"
    }
   ],
   "source": [
    "# set comprehension\n",
    "{i for i in range(0, 19) if i % 2 == 0 or i % 3 == 0}"
   ]
  },
  {
   "cell_type": "code",
   "execution_count": 29,
   "metadata": {
    "collapsed": false
   },
   "outputs": [
    {
     "data": {
      "text/plain": [
       "{0: 0,\n",
       " 2: 4,\n",
       " 3: 9,\n",
       " 4: 16,\n",
       " 6: 36,\n",
       " 8: 64,\n",
       " 9: 81,\n",
       " 10: 100,\n",
       " 12: 144,\n",
       " 14: 196,\n",
       " 15: 225,\n",
       " 16: 256,\n",
       " 18: 324}"
      ]
     },
     "execution_count": 29,
     "metadata": {},
     "output_type": "execute_result"
    }
   ],
   "source": [
    "# dictionary comprehension\n",
    "{i:i**2 for i in range(0, 19) if i % 2 == 0 or i % 3 == 0}"
   ]
  },
  {
   "cell_type": "code",
   "execution_count": null,
   "metadata": {
    "collapsed": true
   },
   "outputs": [],
   "source": []
  },
  {
   "cell_type": "code",
   "execution_count": 30,
   "metadata": {
    "collapsed": true
   },
   "outputs": [],
   "source": [
    "fp = open('untitled.txt', 'r')"
   ]
  },
  {
   "cell_type": "code",
   "execution_count": 31,
   "metadata": {
    "collapsed": false
   },
   "outputs": [
    {
     "data": {
      "text/plain": [
       "<_io.TextIOWrapper name='untitled.txt' mode='r' encoding='UTF-8'>"
      ]
     },
     "execution_count": 31,
     "metadata": {},
     "output_type": "execute_result"
    }
   ],
   "source": [
    "fp"
   ]
  },
  {
   "cell_type": "code",
   "execution_count": 32,
   "metadata": {
    "collapsed": false
   },
   "outputs": [
    {
     "ename": "FileNotFoundError",
     "evalue": "[Errno 2] No such file or directory: 'notafile.txt'",
     "output_type": "error",
     "traceback": [
      "\u001b[0;31m---------------------------------------------------------------------------\u001b[0m",
      "\u001b[0;31mFileNotFoundError\u001b[0m                         Traceback (most recent call last)",
      "\u001b[0;32m<ipython-input-32-2b76ba72e0a0>\u001b[0m in \u001b[0;36m<module>\u001b[0;34m()\u001b[0m\n\u001b[0;32m----> 1\u001b[0;31m \u001b[0mopen\u001b[0m\u001b[0;34m(\u001b[0m\u001b[0;34m'notafile.txt'\u001b[0m\u001b[0;34m,\u001b[0m \u001b[0;34m'r'\u001b[0m\u001b[0;34m)\u001b[0m\u001b[0;34m\u001b[0m\u001b[0m\n\u001b[0m",
      "\u001b[0;31mFileNotFoundError\u001b[0m: [Errno 2] No such file or directory: 'notafile.txt'"
     ]
    }
   ],
   "source": [
    "open('notafile.txt', 'r')"
   ]
  },
  {
   "cell_type": "code",
   "execution_count": 33,
   "metadata": {
    "collapsed": false
   },
   "outputs": [
    {
     "data": {
      "text/plain": [
       "['_CHUNK_SIZE',\n",
       " '__class__',\n",
       " '__del__',\n",
       " '__delattr__',\n",
       " '__dict__',\n",
       " '__dir__',\n",
       " '__doc__',\n",
       " '__enter__',\n",
       " '__eq__',\n",
       " '__exit__',\n",
       " '__format__',\n",
       " '__ge__',\n",
       " '__getattribute__',\n",
       " '__getstate__',\n",
       " '__gt__',\n",
       " '__hash__',\n",
       " '__init__',\n",
       " '__iter__',\n",
       " '__le__',\n",
       " '__lt__',\n",
       " '__ne__',\n",
       " '__new__',\n",
       " '__next__',\n",
       " '__reduce__',\n",
       " '__reduce_ex__',\n",
       " '__repr__',\n",
       " '__setattr__',\n",
       " '__sizeof__',\n",
       " '__str__',\n",
       " '__subclasshook__',\n",
       " '_checkClosed',\n",
       " '_checkReadable',\n",
       " '_checkSeekable',\n",
       " '_checkWritable',\n",
       " '_finalizing',\n",
       " 'buffer',\n",
       " 'close',\n",
       " 'closed',\n",
       " 'detach',\n",
       " 'encoding',\n",
       " 'errors',\n",
       " 'fileno',\n",
       " 'flush',\n",
       " 'isatty',\n",
       " 'line_buffering',\n",
       " 'mode',\n",
       " 'name',\n",
       " 'newlines',\n",
       " 'read',\n",
       " 'readable',\n",
       " 'readline',\n",
       " 'readlines',\n",
       " 'seek',\n",
       " 'seekable',\n",
       " 'tell',\n",
       " 'truncate',\n",
       " 'writable',\n",
       " 'write',\n",
       " 'writelines']"
      ]
     },
     "execution_count": 33,
     "metadata": {},
     "output_type": "execute_result"
    }
   ],
   "source": [
    "dir(fp)"
   ]
  },
  {
   "cell_type": "code",
   "execution_count": 34,
   "metadata": {
    "collapsed": false
   },
   "outputs": [
    {
     "data": {
      "text/plain": [
       "'euname,modified,linked_country,iso3,iso2,grc,isonum,country,imperitive\\n,,Georgia,,,ABK,,Abkhazia,De Facto; Currency\\nAFGHANISTAN,,,AFG,AF,AFG,004,Afganistan,\\n,Added 26th October 2010,Finland,ALA,AX,ALA,248,Åland Islands,Postal\\nAlbania,,,ALB,AL,ALB,008,Albania,\\nALGERIA,,,DZA,DZ,ALG,012,Algeria,\\n,,United States of America,ASM,AS,AMS,016,American Samoa,Geographical\\nANDORRA,,,AND,AD,AND,020,Andorra,\\nANGOLA,,,AGO,AO,ANG,024,Angola,\\n,,United Kingdom,AIA,AI,ANU,660,Anguilla,Geographical; Postal; Currency; Telephone\\nANTIGUA AND BARBUDA,,,ATG,AG,ANT,028,Antigua & Barbuda,\\nArgentina,,,ARG,AR,ARG,032,Argentina,\\nArmenia,,,ARM,AM,ARM,051,Armenia,\\nARUBA,,Netherlands,ABW,AW,ARU,533,Aruba,Geographical; Postal; Currency; Telephone\\nAustralia,,,AUS,AU,AST,036,Australia,\\nAustria,,,AUT,AT,AUS,040,Austria,\\nAZERBAIJAN,,,AZE,AZ,AZE,031,Azerbaijan,\\nBAHAMAS,,,BHS,BS,BAH,044,Bahamas,\\nBAHRAIN,,,BHR,BH,BAR,048,Bahrain,\\nBANGLADESH,,,BGD,BD,BAN,050,Bangladesh,\\nBarbados,,,BRB,BB,BAB,052,Barbados,\\nBELARUS,,,BLR,BY,BEO,112,Belarus,\\nBelgium,,,BEL,BE,BEL,056,Belgium,\\nBELIZE,,,BLZ,BZ,BEI,084,Belize,\\nBenin,,,BEN,BJ,BEN,204,Benin,\\n,,United Kingdom,BMU,BM,BER,060,Bermuda,Geographical; Postal; Currency; Telephone\\nBHUTAN,,,BTN,BT,BHU,064,Bhutan,\\nBOLIVIA,,,BOL,BO,BOL,068,Bolivia,\\n,ISO codes added 28th Dec. 2010,Netherlands,BES,BQ,BON,535,Bonaire,Geographical; Postal; Currency; Telephone\\nBosnia-Herzegovina,,,BIH,BA,BOS,070,Bosnia-Herzegovina,\\nBOTSWANA,,,BWA,BW,BOT,072,Botswana,\\nBrazil,,,BRA,BR,BRA,076,Brazil,\\n,,\"United Kingdom, United States of America\",IOT,IO,BIO,086,British Indian Ocean Territory,Geographical; Postal; Telephone\\nBritish Virgin Islands,,United Kingdom,VGB,VG,BVI,092,British Virgin Islands,Geographical; Postal; Currency; Telephone\\nBRUNEI,,,BRN,BN,BRU,096,Brunei Darussalam,\\nBulgaria,,,BGR,BG,BUL,100,Bulgaria,\\nBURKINA FASO,,,BFA,BF,BUK,854,Burkina Faso,\\nBURUNDI,,,BDI,BI,BUU,108,Burundi,\\nCambodia,,,KHM,KH,CAM,116,Cambodia,\\nCameroon,,,CMR,CM,CAE,120,Cameroon,\\nCanada,,,CAN,CA,CAN,124,Canada,\\nCAPE VERDE,,,CPV,CV,CAP,132,Cape Verde Islands,\\n,,United Kingdom,CYM,KY,CAY,136,Cayman Islands,Geographical; Postal; Currency; Telephone\\n\"CENTRAL AFRICAN, REPUBLIC\",,,CAF,CF,CEN,140,Central African Republic,\\nChad,,,TCD,TD,CHA,148,Chad,\\nCHILE,,,CHL,CL,CHI,152,Chile,\\nCHINA,,,CHN,CN,CHN,156,China,\\n,,Australia,CXR,CX,CHR,162,Christmas Island,Geographical\\n,,Australia,CCK,CC,COC,166,Cocos (Keeling) Islands,Geographical\\nColombia,,,COL,CO,CLO,170,Colombia,\\nCOMOROS,,,COM,KM,COM,174,Comoros,\\nCONGO,,,COG,CG,CNG,178,Congo (Brazzaville),\\n\"CONGO, DEMOCRATIC REPUBLIC OF\",,,ZAR,CD,ZAI,180,Congo (Kinshasa),\\nCOOK ISLANDS,,New Zealand,COK,CK,COO,184,Cook Islands,Geographical; Postal; Telephone\\nCosta Rica,,,CRI,CR,COS,188,Costa Rica,\\nCroatia,,,HRV,HR,CRO,191,Croatia,\\nCUBA,,,CUB,CU,CUB,192,Cuba,'"
      ]
     },
     "execution_count": 34,
     "metadata": {},
     "output_type": "execute_result"
    }
   ],
   "source": [
    "fp.read()"
   ]
  },
  {
   "cell_type": "code",
   "execution_count": 35,
   "metadata": {
    "collapsed": false
   },
   "outputs": [
    {
     "data": {
      "text/plain": [
       "''"
      ]
     },
     "execution_count": 35,
     "metadata": {},
     "output_type": "execute_result"
    }
   ],
   "source": [
    "fp.read()"
   ]
  },
  {
   "cell_type": "code",
   "execution_count": 36,
   "metadata": {
    "collapsed": false
   },
   "outputs": [
    {
     "data": {
      "text/plain": [
       "0"
      ]
     },
     "execution_count": 36,
     "metadata": {},
     "output_type": "execute_result"
    }
   ],
   "source": [
    "fp.seek(0)"
   ]
  },
  {
   "cell_type": "code",
   "execution_count": 37,
   "metadata": {
    "collapsed": false
   },
   "outputs": [
    {
     "data": {
      "text/plain": [
       "'euname,modified,linked_country,iso3,iso2,grc,isonum,country,imperitive\\n,,Georgia,,,ABK,,Abkhazia,De Facto; Currency\\nAFGHANISTAN,,,AFG,AF,AFG,004,Afganistan,\\n,Added 26th October 2010,Finland,ALA,AX,ALA,248,Åland Islands,Postal\\nAlbania,,,ALB,AL,ALB,008,Albania,\\nALGERIA,,,DZA,DZ,ALG,012,Algeria,\\n,,United States of America,ASM,AS,AMS,016,American Samoa,Geographical\\nANDORRA,,,AND,AD,AND,020,Andorra,\\nANGOLA,,,AGO,AO,ANG,024,Angola,\\n,,United Kingdom,AIA,AI,ANU,660,Anguilla,Geographical; Postal; Currency; Telephone\\nANTIGUA AND BARBUDA,,,ATG,AG,ANT,028,Antigua & Barbuda,\\nArgentina,,,ARG,AR,ARG,032,Argentina,\\nArmenia,,,ARM,AM,ARM,051,Armenia,\\nARUBA,,Netherlands,ABW,AW,ARU,533,Aruba,Geographical; Postal; Currency; Telephone\\nAustralia,,,AUS,AU,AST,036,Australia,\\nAustria,,,AUT,AT,AUS,040,Austria,\\nAZERBAIJAN,,,AZE,AZ,AZE,031,Azerbaijan,\\nBAHAMAS,,,BHS,BS,BAH,044,Bahamas,\\nBAHRAIN,,,BHR,BH,BAR,048,Bahrain,\\nBANGLADESH,,,BGD,BD,BAN,050,Bangladesh,\\nBarbados,,,BRB,BB,BAB,052,Barbados,\\nBELARUS,,,BLR,BY,BEO,112,Belarus,\\nBelgium,,,BEL,BE,BEL,056,Belgium,\\nBELIZE,,,BLZ,BZ,BEI,084,Belize,\\nBenin,,,BEN,BJ,BEN,204,Benin,\\n,,United Kingdom,BMU,BM,BER,060,Bermuda,Geographical; Postal; Currency; Telephone\\nBHUTAN,,,BTN,BT,BHU,064,Bhutan,\\nBOLIVIA,,,BOL,BO,BOL,068,Bolivia,\\n,ISO codes added 28th Dec. 2010,Netherlands,BES,BQ,BON,535,Bonaire,Geographical; Postal; Currency; Telephone\\nBosnia-Herzegovina,,,BIH,BA,BOS,070,Bosnia-Herzegovina,\\nBOTSWANA,,,BWA,BW,BOT,072,Botswana,\\nBrazil,,,BRA,BR,BRA,076,Brazil,\\n,,\"United Kingdom, United States of America\",IOT,IO,BIO,086,British Indian Ocean Territory,Geographical; Postal; Telephone\\nBritish Virgin Islands,,United Kingdom,VGB,VG,BVI,092,British Virgin Islands,Geographical; Postal; Currency; Telephone\\nBRUNEI,,,BRN,BN,BRU,096,Brunei Darussalam,\\nBulgaria,,,BGR,BG,BUL,100,Bulgaria,\\nBURKINA FASO,,,BFA,BF,BUK,854,Burkina Faso,\\nBURUNDI,,,BDI,BI,BUU,108,Burundi,\\nCambodia,,,KHM,KH,CAM,116,Cambodia,\\nCameroon,,,CMR,CM,CAE,120,Cameroon,\\nCanada,,,CAN,CA,CAN,124,Canada,\\nCAPE VERDE,,,CPV,CV,CAP,132,Cape Verde Islands,\\n,,United Kingdom,CYM,KY,CAY,136,Cayman Islands,Geographical; Postal; Currency; Telephone\\n\"CENTRAL AFRICAN, REPUBLIC\",,,CAF,CF,CEN,140,Central African Republic,\\nChad,,,TCD,TD,CHA,148,Chad,\\nCHILE,,,CHL,CL,CHI,152,Chile,\\nCHINA,,,CHN,CN,CHN,156,China,\\n,,Australia,CXR,CX,CHR,162,Christmas Island,Geographical\\n,,Australia,CCK,CC,COC,166,Cocos (Keeling) Islands,Geographical\\nColombia,,,COL,CO,CLO,170,Colombia,\\nCOMOROS,,,COM,KM,COM,174,Comoros,\\nCONGO,,,COG,CG,CNG,178,Congo (Brazzaville),\\n\"CONGO, DEMOCRATIC REPUBLIC OF\",,,ZAR,CD,ZAI,180,Congo (Kinshasa),\\nCOOK ISLANDS,,New Zealand,COK,CK,COO,184,Cook Islands,Geographical; Postal; Telephone\\nCosta Rica,,,CRI,CR,COS,188,Costa Rica,\\nCroatia,,,HRV,HR,CRO,191,Croatia,\\nCUBA,,,CUB,CU,CUB,192,Cuba,'"
      ]
     },
     "execution_count": 37,
     "metadata": {},
     "output_type": "execute_result"
    }
   ],
   "source": [
    "fp.read()"
   ]
  },
  {
   "cell_type": "code",
   "execution_count": 38,
   "metadata": {
    "collapsed": false
   },
   "outputs": [
    {
     "data": {
      "text/plain": [
       "0"
      ]
     },
     "execution_count": 38,
     "metadata": {},
     "output_type": "execute_result"
    }
   ],
   "source": [
    "fp.seek(0)"
   ]
  },
  {
   "cell_type": "code",
   "execution_count": 39,
   "metadata": {
    "collapsed": false
   },
   "outputs": [
    {
     "data": {
      "text/plain": [
       "'euname,modified,linked_country,iso3,iso2,grc,isonum,country,imperitive\\n'"
      ]
     },
     "execution_count": 39,
     "metadata": {},
     "output_type": "execute_result"
    }
   ],
   "source": [
    "fp.readline()"
   ]
  },
  {
   "cell_type": "code",
   "execution_count": 40,
   "metadata": {
    "collapsed": true
   },
   "outputs": [],
   "source": [
    "line = fp.readline()"
   ]
  },
  {
   "cell_type": "code",
   "execution_count": 41,
   "metadata": {
    "collapsed": false
   },
   "outputs": [
    {
     "data": {
      "text/plain": [
       "',,Georgia,,,ABK,,Abkhazia,De Facto; Currency\\n'"
      ]
     },
     "execution_count": 41,
     "metadata": {},
     "output_type": "execute_result"
    }
   ],
   "source": [
    "line"
   ]
  },
  {
   "cell_type": "code",
   "execution_count": 42,
   "metadata": {
    "collapsed": true
   },
   "outputs": [],
   "source": [
    "line = line.strip()"
   ]
  },
  {
   "cell_type": "code",
   "execution_count": 43,
   "metadata": {
    "collapsed": false
   },
   "outputs": [
    {
     "data": {
      "text/plain": [
       "',,Georgia,,,ABK,,Abkhazia,De Facto; Currency'"
      ]
     },
     "execution_count": 43,
     "metadata": {},
     "output_type": "execute_result"
    }
   ],
   "source": [
    "line"
   ]
  },
  {
   "cell_type": "code",
   "execution_count": 44,
   "metadata": {
    "collapsed": true
   },
   "outputs": [],
   "source": [
    "line = line.strip(',')"
   ]
  },
  {
   "cell_type": "code",
   "execution_count": 45,
   "metadata": {
    "collapsed": false
   },
   "outputs": [
    {
     "data": {
      "text/plain": [
       "'Georgia,,,ABK,,Abkhazia,De Facto; Currency'"
      ]
     },
     "execution_count": 45,
     "metadata": {},
     "output_type": "execute_result"
    }
   ],
   "source": [
    "line"
   ]
  },
  {
   "cell_type": "code",
   "execution_count": 46,
   "metadata": {
    "collapsed": true
   },
   "outputs": [],
   "source": [
    "items = line.split(',')"
   ]
  },
  {
   "cell_type": "code",
   "execution_count": 47,
   "metadata": {
    "collapsed": false
   },
   "outputs": [
    {
     "data": {
      "text/plain": [
       "['Georgia', '', '', 'ABK', '', 'Abkhazia', 'De Facto; Currency']"
      ]
     },
     "execution_count": 47,
     "metadata": {},
     "output_type": "execute_result"
    }
   ],
   "source": [
    "items"
   ]
  },
  {
   "cell_type": "code",
   "execution_count": 48,
   "metadata": {
    "collapsed": true
   },
   "outputs": [],
   "source": [
    "import csv"
   ]
  },
  {
   "cell_type": "code",
   "execution_count": 67,
   "metadata": {
    "collapsed": false
   },
   "outputs": [
    {
     "data": {
      "text/plain": [
       "0"
      ]
     },
     "execution_count": 67,
     "metadata": {},
     "output_type": "execute_result"
    }
   ],
   "source": [
    "fp.seek(0)"
   ]
  },
  {
   "cell_type": "code",
   "execution_count": 50,
   "metadata": {
    "collapsed": true
   },
   "outputs": [],
   "source": [
    "headers = 'euname,modified,linked_country,iso3,iso2,grc,isonum,country,imperitive\\n'"
   ]
  },
  {
   "cell_type": "code",
   "execution_count": 51,
   "metadata": {
    "collapsed": true
   },
   "outputs": [],
   "source": [
    "headers = headers.strip().split(',')"
   ]
  },
  {
   "cell_type": "code",
   "execution_count": 52,
   "metadata": {
    "collapsed": false
   },
   "outputs": [
    {
     "data": {
      "text/plain": [
       "['euname',\n",
       " 'modified',\n",
       " 'linked_country',\n",
       " 'iso3',\n",
       " 'iso2',\n",
       " 'grc',\n",
       " 'isonum',\n",
       " 'country',\n",
       " 'imperitive']"
      ]
     },
     "execution_count": 52,
     "metadata": {},
     "output_type": "execute_result"
    }
   ],
   "source": [
    "headers"
   ]
  },
  {
   "cell_type": "code",
   "execution_count": 68,
   "metadata": {
    "collapsed": true
   },
   "outputs": [],
   "source": [
    "reader = csv.DictReader(fp)"
   ]
  },
  {
   "cell_type": "code",
   "execution_count": 69,
   "metadata": {
    "collapsed": false
   },
   "outputs": [
    {
     "data": {
      "text/plain": [
       "<csv.DictReader at 0x103ee8ac8>"
      ]
     },
     "execution_count": 69,
     "metadata": {},
     "output_type": "execute_result"
    }
   ],
   "source": [
    "reader"
   ]
  },
  {
   "cell_type": "code",
   "execution_count": 64,
   "metadata": {
    "collapsed": false
   },
   "outputs": [
    {
     "data": {
      "text/plain": [
       "['__class__',\n",
       " '__delattr__',\n",
       " '__dict__',\n",
       " '__dir__',\n",
       " '__doc__',\n",
       " '__eq__',\n",
       " '__format__',\n",
       " '__ge__',\n",
       " '__getattribute__',\n",
       " '__gt__',\n",
       " '__hash__',\n",
       " '__init__',\n",
       " '__iter__',\n",
       " '__le__',\n",
       " '__lt__',\n",
       " '__module__',\n",
       " '__ne__',\n",
       " '__new__',\n",
       " '__next__',\n",
       " '__reduce__',\n",
       " '__reduce_ex__',\n",
       " '__repr__',\n",
       " '__setattr__',\n",
       " '__sizeof__',\n",
       " '__str__',\n",
       " '__subclasshook__',\n",
       " '__weakref__',\n",
       " '_fieldnames',\n",
       " 'dialect',\n",
       " 'fieldnames',\n",
       " 'line_num',\n",
       " 'reader',\n",
       " 'restkey',\n",
       " 'restval']"
      ]
     },
     "execution_count": 64,
     "metadata": {},
     "output_type": "execute_result"
    }
   ],
   "source": [
    "dir(reader)"
   ]
  },
  {
   "cell_type": "code",
   "execution_count": 70,
   "metadata": {
    "collapsed": false
   },
   "outputs": [
    {
     "data": {
      "text/plain": [
       "['euname',\n",
       " 'modified',\n",
       " 'linked_country',\n",
       " 'iso3',\n",
       " 'iso2',\n",
       " 'grc',\n",
       " 'isonum',\n",
       " 'country',\n",
       " 'imperitive']"
      ]
     },
     "execution_count": 70,
     "metadata": {},
     "output_type": "execute_result"
    }
   ],
   "source": [
    "reader.fieldnames"
   ]
  },
  {
   "cell_type": "code",
   "execution_count": 71,
   "metadata": {
    "collapsed": true
   },
   "outputs": [],
   "source": [
    "countries = list(reader)"
   ]
  },
  {
   "cell_type": "code",
   "execution_count": 72,
   "metadata": {
    "collapsed": false
   },
   "outputs": [
    {
     "data": {
      "text/plain": [
       "[{'country': 'Abkhazia',\n",
       "  'euname': '',\n",
       "  'grc': 'ABK',\n",
       "  'imperitive': 'De Facto; Currency',\n",
       "  'iso2': '',\n",
       "  'iso3': '',\n",
       "  'isonum': '',\n",
       "  'linked_country': 'Georgia',\n",
       "  'modified': ''},\n",
       " {'country': 'Afganistan',\n",
       "  'euname': 'AFGHANISTAN',\n",
       "  'grc': 'AFG',\n",
       "  'imperitive': '',\n",
       "  'iso2': 'AF',\n",
       "  'iso3': 'AFG',\n",
       "  'isonum': '004',\n",
       "  'linked_country': '',\n",
       "  'modified': ''},\n",
       " {'country': 'Åland Islands',\n",
       "  'euname': '',\n",
       "  'grc': 'ALA',\n",
       "  'imperitive': 'Postal',\n",
       "  'iso2': 'AX',\n",
       "  'iso3': 'ALA',\n",
       "  'isonum': '248',\n",
       "  'linked_country': 'Finland',\n",
       "  'modified': 'Added 26th October 2010'},\n",
       " {'country': 'Albania',\n",
       "  'euname': 'Albania',\n",
       "  'grc': 'ALB',\n",
       "  'imperitive': '',\n",
       "  'iso2': 'AL',\n",
       "  'iso3': 'ALB',\n",
       "  'isonum': '008',\n",
       "  'linked_country': '',\n",
       "  'modified': ''},\n",
       " {'country': 'Algeria',\n",
       "  'euname': 'ALGERIA',\n",
       "  'grc': 'ALG',\n",
       "  'imperitive': '',\n",
       "  'iso2': 'DZ',\n",
       "  'iso3': 'DZA',\n",
       "  'isonum': '012',\n",
       "  'linked_country': '',\n",
       "  'modified': ''},\n",
       " {'country': 'American Samoa',\n",
       "  'euname': '',\n",
       "  'grc': 'AMS',\n",
       "  'imperitive': 'Geographical',\n",
       "  'iso2': 'AS',\n",
       "  'iso3': 'ASM',\n",
       "  'isonum': '016',\n",
       "  'linked_country': 'United States of America',\n",
       "  'modified': ''},\n",
       " {'country': 'Andorra',\n",
       "  'euname': 'ANDORRA',\n",
       "  'grc': 'AND',\n",
       "  'imperitive': '',\n",
       "  'iso2': 'AD',\n",
       "  'iso3': 'AND',\n",
       "  'isonum': '020',\n",
       "  'linked_country': '',\n",
       "  'modified': ''},\n",
       " {'country': 'Angola',\n",
       "  'euname': 'ANGOLA',\n",
       "  'grc': 'ANG',\n",
       "  'imperitive': '',\n",
       "  'iso2': 'AO',\n",
       "  'iso3': 'AGO',\n",
       "  'isonum': '024',\n",
       "  'linked_country': '',\n",
       "  'modified': ''},\n",
       " {'country': 'Anguilla',\n",
       "  'euname': '',\n",
       "  'grc': 'ANU',\n",
       "  'imperitive': 'Geographical; Postal; Currency; Telephone',\n",
       "  'iso2': 'AI',\n",
       "  'iso3': 'AIA',\n",
       "  'isonum': '660',\n",
       "  'linked_country': 'United Kingdom',\n",
       "  'modified': ''},\n",
       " {'country': 'Antigua & Barbuda',\n",
       "  'euname': 'ANTIGUA AND BARBUDA',\n",
       "  'grc': 'ANT',\n",
       "  'imperitive': '',\n",
       "  'iso2': 'AG',\n",
       "  'iso3': 'ATG',\n",
       "  'isonum': '028',\n",
       "  'linked_country': '',\n",
       "  'modified': ''},\n",
       " {'country': 'Argentina',\n",
       "  'euname': 'Argentina',\n",
       "  'grc': 'ARG',\n",
       "  'imperitive': '',\n",
       "  'iso2': 'AR',\n",
       "  'iso3': 'ARG',\n",
       "  'isonum': '032',\n",
       "  'linked_country': '',\n",
       "  'modified': ''},\n",
       " {'country': 'Armenia',\n",
       "  'euname': 'Armenia',\n",
       "  'grc': 'ARM',\n",
       "  'imperitive': '',\n",
       "  'iso2': 'AM',\n",
       "  'iso3': 'ARM',\n",
       "  'isonum': '051',\n",
       "  'linked_country': '',\n",
       "  'modified': ''},\n",
       " {'country': 'Aruba',\n",
       "  'euname': 'ARUBA',\n",
       "  'grc': 'ARU',\n",
       "  'imperitive': 'Geographical; Postal; Currency; Telephone',\n",
       "  'iso2': 'AW',\n",
       "  'iso3': 'ABW',\n",
       "  'isonum': '533',\n",
       "  'linked_country': 'Netherlands',\n",
       "  'modified': ''},\n",
       " {'country': 'Australia',\n",
       "  'euname': 'Australia',\n",
       "  'grc': 'AST',\n",
       "  'imperitive': '',\n",
       "  'iso2': 'AU',\n",
       "  'iso3': 'AUS',\n",
       "  'isonum': '036',\n",
       "  'linked_country': '',\n",
       "  'modified': ''},\n",
       " {'country': 'Austria',\n",
       "  'euname': 'Austria',\n",
       "  'grc': 'AUS',\n",
       "  'imperitive': '',\n",
       "  'iso2': 'AT',\n",
       "  'iso3': 'AUT',\n",
       "  'isonum': '040',\n",
       "  'linked_country': '',\n",
       "  'modified': ''},\n",
       " {'country': 'Azerbaijan',\n",
       "  'euname': 'AZERBAIJAN',\n",
       "  'grc': 'AZE',\n",
       "  'imperitive': '',\n",
       "  'iso2': 'AZ',\n",
       "  'iso3': 'AZE',\n",
       "  'isonum': '031',\n",
       "  'linked_country': '',\n",
       "  'modified': ''},\n",
       " {'country': 'Bahamas',\n",
       "  'euname': 'BAHAMAS',\n",
       "  'grc': 'BAH',\n",
       "  'imperitive': '',\n",
       "  'iso2': 'BS',\n",
       "  'iso3': 'BHS',\n",
       "  'isonum': '044',\n",
       "  'linked_country': '',\n",
       "  'modified': ''},\n",
       " {'country': 'Bahrain',\n",
       "  'euname': 'BAHRAIN',\n",
       "  'grc': 'BAR',\n",
       "  'imperitive': '',\n",
       "  'iso2': 'BH',\n",
       "  'iso3': 'BHR',\n",
       "  'isonum': '048',\n",
       "  'linked_country': '',\n",
       "  'modified': ''},\n",
       " {'country': 'Bangladesh',\n",
       "  'euname': 'BANGLADESH',\n",
       "  'grc': 'BAN',\n",
       "  'imperitive': '',\n",
       "  'iso2': 'BD',\n",
       "  'iso3': 'BGD',\n",
       "  'isonum': '050',\n",
       "  'linked_country': '',\n",
       "  'modified': ''},\n",
       " {'country': 'Barbados',\n",
       "  'euname': 'Barbados',\n",
       "  'grc': 'BAB',\n",
       "  'imperitive': '',\n",
       "  'iso2': 'BB',\n",
       "  'iso3': 'BRB',\n",
       "  'isonum': '052',\n",
       "  'linked_country': '',\n",
       "  'modified': ''},\n",
       " {'country': 'Belarus',\n",
       "  'euname': 'BELARUS',\n",
       "  'grc': 'BEO',\n",
       "  'imperitive': '',\n",
       "  'iso2': 'BY',\n",
       "  'iso3': 'BLR',\n",
       "  'isonum': '112',\n",
       "  'linked_country': '',\n",
       "  'modified': ''},\n",
       " {'country': 'Belgium',\n",
       "  'euname': 'Belgium',\n",
       "  'grc': 'BEL',\n",
       "  'imperitive': '',\n",
       "  'iso2': 'BE',\n",
       "  'iso3': 'BEL',\n",
       "  'isonum': '056',\n",
       "  'linked_country': '',\n",
       "  'modified': ''},\n",
       " {'country': 'Belize',\n",
       "  'euname': 'BELIZE',\n",
       "  'grc': 'BEI',\n",
       "  'imperitive': '',\n",
       "  'iso2': 'BZ',\n",
       "  'iso3': 'BLZ',\n",
       "  'isonum': '084',\n",
       "  'linked_country': '',\n",
       "  'modified': ''},\n",
       " {'country': 'Benin',\n",
       "  'euname': 'Benin',\n",
       "  'grc': 'BEN',\n",
       "  'imperitive': '',\n",
       "  'iso2': 'BJ',\n",
       "  'iso3': 'BEN',\n",
       "  'isonum': '204',\n",
       "  'linked_country': '',\n",
       "  'modified': ''},\n",
       " {'country': 'Bermuda',\n",
       "  'euname': '',\n",
       "  'grc': 'BER',\n",
       "  'imperitive': 'Geographical; Postal; Currency; Telephone',\n",
       "  'iso2': 'BM',\n",
       "  'iso3': 'BMU',\n",
       "  'isonum': '060',\n",
       "  'linked_country': 'United Kingdom',\n",
       "  'modified': ''},\n",
       " {'country': 'Bhutan',\n",
       "  'euname': 'BHUTAN',\n",
       "  'grc': 'BHU',\n",
       "  'imperitive': '',\n",
       "  'iso2': 'BT',\n",
       "  'iso3': 'BTN',\n",
       "  'isonum': '064',\n",
       "  'linked_country': '',\n",
       "  'modified': ''},\n",
       " {'country': 'Bolivia',\n",
       "  'euname': 'BOLIVIA',\n",
       "  'grc': 'BOL',\n",
       "  'imperitive': '',\n",
       "  'iso2': 'BO',\n",
       "  'iso3': 'BOL',\n",
       "  'isonum': '068',\n",
       "  'linked_country': '',\n",
       "  'modified': ''},\n",
       " {'country': 'Bonaire',\n",
       "  'euname': '',\n",
       "  'grc': 'BON',\n",
       "  'imperitive': 'Geographical; Postal; Currency; Telephone',\n",
       "  'iso2': 'BQ',\n",
       "  'iso3': 'BES',\n",
       "  'isonum': '535',\n",
       "  'linked_country': 'Netherlands',\n",
       "  'modified': 'ISO codes added 28th Dec. 2010'},\n",
       " {'country': 'Bosnia-Herzegovina',\n",
       "  'euname': 'Bosnia-Herzegovina',\n",
       "  'grc': 'BOS',\n",
       "  'imperitive': '',\n",
       "  'iso2': 'BA',\n",
       "  'iso3': 'BIH',\n",
       "  'isonum': '070',\n",
       "  'linked_country': '',\n",
       "  'modified': ''},\n",
       " {'country': 'Botswana',\n",
       "  'euname': 'BOTSWANA',\n",
       "  'grc': 'BOT',\n",
       "  'imperitive': '',\n",
       "  'iso2': 'BW',\n",
       "  'iso3': 'BWA',\n",
       "  'isonum': '072',\n",
       "  'linked_country': '',\n",
       "  'modified': ''},\n",
       " {'country': 'Brazil',\n",
       "  'euname': 'Brazil',\n",
       "  'grc': 'BRA',\n",
       "  'imperitive': '',\n",
       "  'iso2': 'BR',\n",
       "  'iso3': 'BRA',\n",
       "  'isonum': '076',\n",
       "  'linked_country': '',\n",
       "  'modified': ''},\n",
       " {'country': 'British Indian Ocean Territory',\n",
       "  'euname': '',\n",
       "  'grc': 'BIO',\n",
       "  'imperitive': 'Geographical; Postal; Telephone',\n",
       "  'iso2': 'IO',\n",
       "  'iso3': 'IOT',\n",
       "  'isonum': '086',\n",
       "  'linked_country': 'United Kingdom, United States of America',\n",
       "  'modified': ''},\n",
       " {'country': 'British Virgin Islands',\n",
       "  'euname': 'British Virgin Islands',\n",
       "  'grc': 'BVI',\n",
       "  'imperitive': 'Geographical; Postal; Currency; Telephone',\n",
       "  'iso2': 'VG',\n",
       "  'iso3': 'VGB',\n",
       "  'isonum': '092',\n",
       "  'linked_country': 'United Kingdom',\n",
       "  'modified': ''},\n",
       " {'country': 'Brunei Darussalam',\n",
       "  'euname': 'BRUNEI',\n",
       "  'grc': 'BRU',\n",
       "  'imperitive': '',\n",
       "  'iso2': 'BN',\n",
       "  'iso3': 'BRN',\n",
       "  'isonum': '096',\n",
       "  'linked_country': '',\n",
       "  'modified': ''},\n",
       " {'country': 'Bulgaria',\n",
       "  'euname': 'Bulgaria',\n",
       "  'grc': 'BUL',\n",
       "  'imperitive': '',\n",
       "  'iso2': 'BG',\n",
       "  'iso3': 'BGR',\n",
       "  'isonum': '100',\n",
       "  'linked_country': '',\n",
       "  'modified': ''},\n",
       " {'country': 'Burkina Faso',\n",
       "  'euname': 'BURKINA FASO',\n",
       "  'grc': 'BUK',\n",
       "  'imperitive': '',\n",
       "  'iso2': 'BF',\n",
       "  'iso3': 'BFA',\n",
       "  'isonum': '854',\n",
       "  'linked_country': '',\n",
       "  'modified': ''},\n",
       " {'country': 'Burundi',\n",
       "  'euname': 'BURUNDI',\n",
       "  'grc': 'BUU',\n",
       "  'imperitive': '',\n",
       "  'iso2': 'BI',\n",
       "  'iso3': 'BDI',\n",
       "  'isonum': '108',\n",
       "  'linked_country': '',\n",
       "  'modified': ''},\n",
       " {'country': 'Cambodia',\n",
       "  'euname': 'Cambodia',\n",
       "  'grc': 'CAM',\n",
       "  'imperitive': '',\n",
       "  'iso2': 'KH',\n",
       "  'iso3': 'KHM',\n",
       "  'isonum': '116',\n",
       "  'linked_country': '',\n",
       "  'modified': ''},\n",
       " {'country': 'Cameroon',\n",
       "  'euname': 'Cameroon',\n",
       "  'grc': 'CAE',\n",
       "  'imperitive': '',\n",
       "  'iso2': 'CM',\n",
       "  'iso3': 'CMR',\n",
       "  'isonum': '120',\n",
       "  'linked_country': '',\n",
       "  'modified': ''},\n",
       " {'country': 'Canada',\n",
       "  'euname': 'Canada',\n",
       "  'grc': 'CAN',\n",
       "  'imperitive': '',\n",
       "  'iso2': 'CA',\n",
       "  'iso3': 'CAN',\n",
       "  'isonum': '124',\n",
       "  'linked_country': '',\n",
       "  'modified': ''},\n",
       " {'country': 'Cape Verde Islands',\n",
       "  'euname': 'CAPE VERDE',\n",
       "  'grc': 'CAP',\n",
       "  'imperitive': '',\n",
       "  'iso2': 'CV',\n",
       "  'iso3': 'CPV',\n",
       "  'isonum': '132',\n",
       "  'linked_country': '',\n",
       "  'modified': ''},\n",
       " {'country': 'Cayman Islands',\n",
       "  'euname': '',\n",
       "  'grc': 'CAY',\n",
       "  'imperitive': 'Geographical; Postal; Currency; Telephone',\n",
       "  'iso2': 'KY',\n",
       "  'iso3': 'CYM',\n",
       "  'isonum': '136',\n",
       "  'linked_country': 'United Kingdom',\n",
       "  'modified': ''},\n",
       " {'country': 'Central African Republic',\n",
       "  'euname': 'CENTRAL AFRICAN, REPUBLIC',\n",
       "  'grc': 'CEN',\n",
       "  'imperitive': '',\n",
       "  'iso2': 'CF',\n",
       "  'iso3': 'CAF',\n",
       "  'isonum': '140',\n",
       "  'linked_country': '',\n",
       "  'modified': ''},\n",
       " {'country': 'Chad',\n",
       "  'euname': 'Chad',\n",
       "  'grc': 'CHA',\n",
       "  'imperitive': '',\n",
       "  'iso2': 'TD',\n",
       "  'iso3': 'TCD',\n",
       "  'isonum': '148',\n",
       "  'linked_country': '',\n",
       "  'modified': ''},\n",
       " {'country': 'Chile',\n",
       "  'euname': 'CHILE',\n",
       "  'grc': 'CHI',\n",
       "  'imperitive': '',\n",
       "  'iso2': 'CL',\n",
       "  'iso3': 'CHL',\n",
       "  'isonum': '152',\n",
       "  'linked_country': '',\n",
       "  'modified': ''},\n",
       " {'country': 'China',\n",
       "  'euname': 'CHINA',\n",
       "  'grc': 'CHN',\n",
       "  'imperitive': '',\n",
       "  'iso2': 'CN',\n",
       "  'iso3': 'CHN',\n",
       "  'isonum': '156',\n",
       "  'linked_country': '',\n",
       "  'modified': ''},\n",
       " {'country': 'Christmas Island',\n",
       "  'euname': '',\n",
       "  'grc': 'CHR',\n",
       "  'imperitive': 'Geographical',\n",
       "  'iso2': 'CX',\n",
       "  'iso3': 'CXR',\n",
       "  'isonum': '162',\n",
       "  'linked_country': 'Australia',\n",
       "  'modified': ''},\n",
       " {'country': 'Cocos (Keeling) Islands',\n",
       "  'euname': '',\n",
       "  'grc': 'COC',\n",
       "  'imperitive': 'Geographical',\n",
       "  'iso2': 'CC',\n",
       "  'iso3': 'CCK',\n",
       "  'isonum': '166',\n",
       "  'linked_country': 'Australia',\n",
       "  'modified': ''},\n",
       " {'country': 'Colombia',\n",
       "  'euname': 'Colombia',\n",
       "  'grc': 'CLO',\n",
       "  'imperitive': '',\n",
       "  'iso2': 'CO',\n",
       "  'iso3': 'COL',\n",
       "  'isonum': '170',\n",
       "  'linked_country': '',\n",
       "  'modified': ''},\n",
       " {'country': 'Comoros',\n",
       "  'euname': 'COMOROS',\n",
       "  'grc': 'COM',\n",
       "  'imperitive': '',\n",
       "  'iso2': 'KM',\n",
       "  'iso3': 'COM',\n",
       "  'isonum': '174',\n",
       "  'linked_country': '',\n",
       "  'modified': ''},\n",
       " {'country': 'Congo (Brazzaville)',\n",
       "  'euname': 'CONGO',\n",
       "  'grc': 'CNG',\n",
       "  'imperitive': '',\n",
       "  'iso2': 'CG',\n",
       "  'iso3': 'COG',\n",
       "  'isonum': '178',\n",
       "  'linked_country': '',\n",
       "  'modified': ''},\n",
       " {'country': 'Congo (Kinshasa)',\n",
       "  'euname': 'CONGO, DEMOCRATIC REPUBLIC OF',\n",
       "  'grc': 'ZAI',\n",
       "  'imperitive': '',\n",
       "  'iso2': 'CD',\n",
       "  'iso3': 'ZAR',\n",
       "  'isonum': '180',\n",
       "  'linked_country': '',\n",
       "  'modified': ''},\n",
       " {'country': 'Cook Islands',\n",
       "  'euname': 'COOK ISLANDS',\n",
       "  'grc': 'COO',\n",
       "  'imperitive': 'Geographical; Postal; Telephone',\n",
       "  'iso2': 'CK',\n",
       "  'iso3': 'COK',\n",
       "  'isonum': '184',\n",
       "  'linked_country': 'New Zealand',\n",
       "  'modified': ''},\n",
       " {'country': 'Costa Rica',\n",
       "  'euname': 'Costa Rica',\n",
       "  'grc': 'COS',\n",
       "  'imperitive': '',\n",
       "  'iso2': 'CR',\n",
       "  'iso3': 'CRI',\n",
       "  'isonum': '188',\n",
       "  'linked_country': '',\n",
       "  'modified': ''},\n",
       " {'country': 'Croatia',\n",
       "  'euname': 'Croatia',\n",
       "  'grc': 'CRO',\n",
       "  'imperitive': '',\n",
       "  'iso2': 'HR',\n",
       "  'iso3': 'HRV',\n",
       "  'isonum': '191',\n",
       "  'linked_country': '',\n",
       "  'modified': ''},\n",
       " {'country': 'Cuba',\n",
       "  'euname': 'CUBA',\n",
       "  'grc': 'CUB',\n",
       "  'imperitive': '',\n",
       "  'iso2': 'CU',\n",
       "  'iso3': 'CUB',\n",
       "  'isonum': '192',\n",
       "  'linked_country': '',\n",
       "  'modified': ''}]"
      ]
     },
     "execution_count": 72,
     "metadata": {},
     "output_type": "execute_result"
    }
   ],
   "source": [
    "countries"
   ]
  },
  {
   "cell_type": "code",
   "execution_count": 73,
   "metadata": {
    "collapsed": false
   },
   "outputs": [],
   "source": [
    "afg = None\n",
    "for row in countries:\n",
    "    if row['iso3'] == 'AFG':\n",
    "        afg = row"
   ]
  },
  {
   "cell_type": "code",
   "execution_count": 74,
   "metadata": {
    "collapsed": false
   },
   "outputs": [
    {
     "data": {
      "text/plain": [
       "{'country': 'Afganistan',\n",
       " 'euname': 'AFGHANISTAN',\n",
       " 'grc': 'AFG',\n",
       " 'imperitive': '',\n",
       " 'iso2': 'AF',\n",
       " 'iso3': 'AFG',\n",
       " 'isonum': '004',\n",
       " 'linked_country': '',\n",
       " 'modified': ''}"
      ]
     },
     "execution_count": 74,
     "metadata": {},
     "output_type": "execute_result"
    }
   ],
   "source": [
    "afg"
   ]
  },
  {
   "cell_type": "markdown",
   "metadata": {},
   "source": [
    "#### final output should be\n",
    "\n",
    "    [('AFG', 'Afganistan'), ('NPL', 'Nepal') ...]"
   ]
  },
  {
   "cell_type": "code",
   "execution_count": 76,
   "metadata": {
    "collapsed": false
   },
   "outputs": [],
   "source": [
    "csvfile = open('untitled.txt', 'r')"
   ]
  },
  {
   "cell_type": "code",
   "execution_count": 77,
   "metadata": {
    "collapsed": false
   },
   "outputs": [
    {
     "data": {
      "text/plain": [
       "<_io.TextIOWrapper name='untitled.txt' mode='r' encoding='UTF-8'>"
      ]
     },
     "execution_count": 77,
     "metadata": {},
     "output_type": "execute_result"
    }
   ],
   "source": [
    "csvfile"
   ]
  },
  {
   "cell_type": "code",
   "execution_count": 78,
   "metadata": {
    "collapsed": true
   },
   "outputs": [],
   "source": [
    "csvreader = csv.DictReader(csvfile)"
   ]
  },
  {
   "cell_type": "code",
   "execution_count": 79,
   "metadata": {
    "collapsed": true
   },
   "outputs": [],
   "source": [
    "country_list = []\n",
    "for country in csvreader:\n",
    "    if country['iso3'] and country['country']:\n",
    "        country_tup = (country['iso3'], country['country'])\n",
    "        country_list.append(country_tup)"
   ]
  },
  {
   "cell_type": "code",
   "execution_count": 80,
   "metadata": {
    "collapsed": false
   },
   "outputs": [
    {
     "data": {
      "text/plain": [
       "[('AFG', 'Afganistan'),\n",
       " ('ALA', 'Åland Islands'),\n",
       " ('ALB', 'Albania'),\n",
       " ('DZA', 'Algeria'),\n",
       " ('ASM', 'American Samoa'),\n",
       " ('AND', 'Andorra'),\n",
       " ('AGO', 'Angola'),\n",
       " ('AIA', 'Anguilla'),\n",
       " ('ATG', 'Antigua & Barbuda'),\n",
       " ('ARG', 'Argentina'),\n",
       " ('ARM', 'Armenia'),\n",
       " ('ABW', 'Aruba'),\n",
       " ('AUS', 'Australia'),\n",
       " ('AUT', 'Austria'),\n",
       " ('AZE', 'Azerbaijan'),\n",
       " ('BHS', 'Bahamas'),\n",
       " ('BHR', 'Bahrain'),\n",
       " ('BGD', 'Bangladesh'),\n",
       " ('BRB', 'Barbados'),\n",
       " ('BLR', 'Belarus'),\n",
       " ('BEL', 'Belgium'),\n",
       " ('BLZ', 'Belize'),\n",
       " ('BEN', 'Benin'),\n",
       " ('BMU', 'Bermuda'),\n",
       " ('BTN', 'Bhutan'),\n",
       " ('BOL', 'Bolivia'),\n",
       " ('BES', 'Bonaire'),\n",
       " ('BIH', 'Bosnia-Herzegovina'),\n",
       " ('BWA', 'Botswana'),\n",
       " ('BRA', 'Brazil'),\n",
       " ('IOT', 'British Indian Ocean Territory'),\n",
       " ('VGB', 'British Virgin Islands'),\n",
       " ('BRN', 'Brunei Darussalam'),\n",
       " ('BGR', 'Bulgaria'),\n",
       " ('BFA', 'Burkina Faso'),\n",
       " ('BDI', 'Burundi'),\n",
       " ('KHM', 'Cambodia'),\n",
       " ('CMR', 'Cameroon'),\n",
       " ('CAN', 'Canada'),\n",
       " ('CPV', 'Cape Verde Islands'),\n",
       " ('CYM', 'Cayman Islands'),\n",
       " ('CAF', 'Central African Republic'),\n",
       " ('TCD', 'Chad'),\n",
       " ('CHL', 'Chile'),\n",
       " ('CHN', 'China'),\n",
       " ('CXR', 'Christmas Island'),\n",
       " ('CCK', 'Cocos (Keeling) Islands'),\n",
       " ('COL', 'Colombia'),\n",
       " ('COM', 'Comoros'),\n",
       " ('COG', 'Congo (Brazzaville)'),\n",
       " ('ZAR', 'Congo (Kinshasa)'),\n",
       " ('COK', 'Cook Islands'),\n",
       " ('CRI', 'Costa Rica'),\n",
       " ('HRV', 'Croatia'),\n",
       " ('CUB', 'Cuba')]"
      ]
     },
     "execution_count": 80,
     "metadata": {},
     "output_type": "execute_result"
    }
   ],
   "source": [
    "country_list"
   ]
  },
  {
   "cell_type": "code",
   "execution_count": 81,
   "metadata": {
    "collapsed": true
   },
   "outputs": [],
   "source": [
    "fp.close()"
   ]
  },
  {
   "cell_type": "code",
   "execution_count": 82,
   "metadata": {
    "collapsed": true
   },
   "outputs": [],
   "source": [
    "csvfile.close()"
   ]
  },
  {
   "cell_type": "code",
   "execution_count": null,
   "metadata": {
    "collapsed": true
   },
   "outputs": [],
   "source": []
  },
  {
   "cell_type": "code",
   "execution_count": 93,
   "metadata": {
    "collapsed": false
   },
   "outputs": [],
   "source": [
    "with open('newfile.csv', 'w') as csvfile:\n",
    "    fieldnames  = ['FirstName', 'LastName', 'Age']\n",
    "    csvwriter = csv.DictWriter(csvfile, fieldnames=fieldnames)\n",
    "    csvwriter.writeheader()\n",
    "    csvwriter.writerow({'FirstName': 'J', 'LastName': 'k', 'Age': 20})\n",
    "    csvwriter.writerow({'LastName': 'M', 'FirstName': 'n', 'Age': 24})\n",
    "    csvwriter.writerows([\n",
    "            {'LastName': 'A', 'FirstName': '', 'Age': 24},\n",
    "            {'LastName': 'B', 'FirstName': 'L', 'Age': 25},\n",
    "            {'LastName': 'B', 'FirstName': 'H', 'Age': 27}\n",
    "    ])"
   ]
  },
  {
   "cell_type": "code",
   "execution_count": null,
   "metadata": {
    "collapsed": true
   },
   "outputs": [],
   "source": []
  },
  {
   "cell_type": "code",
   "execution_count": null,
   "metadata": {
    "collapsed": true
   },
   "outputs": [],
   "source": []
  },
  {
   "cell_type": "markdown",
   "metadata": {},
   "source": [
    "## Classes and Objects\n",
    "---"
   ]
  },
  {
   "cell_type": "markdown",
   "metadata": {},
   "source": [
    "                               Dogs\n",
    "                                 |\n",
    "                        -------------------\n",
    "                        |                 |\n",
    "                      Domestic           Wild\n",
    "             ------------------\n",
    "             |                |\n",
    "           Semi Wild         Feral ...   "
   ]
  },
  {
   "cell_type": "markdown",
   "metadata": {},
   "source": [
    "                 Transport\n",
    "                   |\n",
    "    -----------------------------------\n",
    "    |                |              |\n",
    "   Land             Water          Air\n",
    "    |\n",
    "--------------        ...........\n",
    "|        |\n",
    "Buses   Train ..."
   ]
  },
  {
   "cell_type": "code",
   "execution_count": 98,
   "metadata": {
    "collapsed": true
   },
   "outputs": [],
   "source": [
    "class Animal:\n",
    "    age = None"
   ]
  },
  {
   "cell_type": "code",
   "execution_count": 109,
   "metadata": {
    "collapsed": true
   },
   "outputs": [],
   "source": [
    "class Dog(Animal):\n",
    "    pass"
   ]
  },
  {
   "cell_type": "code",
   "execution_count": 100,
   "metadata": {
    "collapsed": true
   },
   "outputs": [],
   "source": [
    "german_shepherd = Dog()"
   ]
  },
  {
   "cell_type": "code",
   "execution_count": 101,
   "metadata": {
    "collapsed": false
   },
   "outputs": [
    {
     "data": {
      "text/plain": [
       "<__main__.Dog at 0x104296da0>"
      ]
     },
     "execution_count": 101,
     "metadata": {},
     "output_type": "execute_result"
    }
   ],
   "source": [
    "german_shepherd"
   ]
  },
  {
   "cell_type": "code",
   "execution_count": 102,
   "metadata": {
    "collapsed": true
   },
   "outputs": [],
   "source": [
    "german_shepherd = Dog()"
   ]
  },
  {
   "cell_type": "code",
   "execution_count": 103,
   "metadata": {
    "collapsed": false
   },
   "outputs": [
    {
     "data": {
      "text/plain": [
       "<__main__.Dog at 0x104296e48>"
      ]
     },
     "execution_count": 103,
     "metadata": {},
     "output_type": "execute_result"
    }
   ],
   "source": [
    "german_shepherd"
   ]
  },
  {
   "cell_type": "code",
   "execution_count": 106,
   "metadata": {
    "collapsed": false
   },
   "outputs": [],
   "source": [
    "german_shepherd.age = 22"
   ]
  },
  {
   "cell_type": "code",
   "execution_count": 107,
   "metadata": {
    "collapsed": false
   },
   "outputs": [
    {
     "data": {
      "text/plain": [
       "22"
      ]
     },
     "execution_count": 107,
     "metadata": {},
     "output_type": "execute_result"
    }
   ],
   "source": [
    "german_shepherd.age"
   ]
  },
  {
   "cell_type": "code",
   "execution_count": 110,
   "metadata": {
    "collapsed": true
   },
   "outputs": [],
   "source": [
    "class Dog(Animal):\n",
    "    age = 18"
   ]
  },
  {
   "cell_type": "code",
   "execution_count": 111,
   "metadata": {
    "collapsed": true
   },
   "outputs": [],
   "source": [
    "german_shepherd = Dog()"
   ]
  },
  {
   "cell_type": "code",
   "execution_count": 113,
   "metadata": {
    "collapsed": false
   },
   "outputs": [
    {
     "data": {
      "text/plain": [
       "18"
      ]
     },
     "execution_count": 113,
     "metadata": {},
     "output_type": "execute_result"
    }
   ],
   "source": [
    "german_shepherd.age"
   ]
  },
  {
   "cell_type": "code",
   "execution_count": 114,
   "metadata": {
    "collapsed": true
   },
   "outputs": [],
   "source": [
    "german_shepherd.age = 21"
   ]
  },
  {
   "cell_type": "code",
   "execution_count": 116,
   "metadata": {
    "collapsed": false
   },
   "outputs": [
    {
     "data": {
      "text/plain": [
       "21"
      ]
     },
     "execution_count": 116,
     "metadata": {},
     "output_type": "execute_result"
    }
   ],
   "source": [
    "german_shepherd.age"
   ]
  },
  {
   "cell_type": "code",
   "execution_count": 117,
   "metadata": {
    "collapsed": true
   },
   "outputs": [],
   "source": [
    "tibetan_husky = Dog()"
   ]
  },
  {
   "cell_type": "code",
   "execution_count": 118,
   "metadata": {
    "collapsed": false
   },
   "outputs": [
    {
     "data": {
      "text/plain": [
       "18"
      ]
     },
     "execution_count": 118,
     "metadata": {},
     "output_type": "execute_result"
    }
   ],
   "source": [
    "tibetan_husky.age"
   ]
  },
  {
   "cell_type": "code",
   "execution_count": 124,
   "metadata": {
    "collapsed": true
   },
   "outputs": [],
   "source": [
    "class Animal:\n",
    "    age = None\n",
    "    \n",
    "    def is_alive(self):\n",
    "        return True\n",
    "    \n",
    "    def sound(self):\n",
    "        return 'Cry'"
   ]
  },
  {
   "cell_type": "code",
   "execution_count": 125,
   "metadata": {
    "collapsed": true
   },
   "outputs": [],
   "source": [
    "class Cat(Animal):\n",
    "    \n",
    "    def sound(self):\n",
    "        return 'Meow'"
   ]
  },
  {
   "cell_type": "code",
   "execution_count": 126,
   "metadata": {
    "collapsed": true
   },
   "outputs": [],
   "source": [
    "cat = Cat()"
   ]
  },
  {
   "cell_type": "code",
   "execution_count": 127,
   "metadata": {
    "collapsed": false
   },
   "outputs": [
    {
     "data": {
      "text/plain": [
       "True"
      ]
     },
     "execution_count": 127,
     "metadata": {},
     "output_type": "execute_result"
    }
   ],
   "source": [
    "cat.is_alive()"
   ]
  },
  {
   "cell_type": "code",
   "execution_count": 128,
   "metadata": {
    "collapsed": true
   },
   "outputs": [],
   "source": [
    "cat.age"
   ]
  },
  {
   "cell_type": "code",
   "execution_count": 129,
   "metadata": {
    "collapsed": false
   },
   "outputs": [
    {
     "data": {
      "text/plain": [
       "'Meow'"
      ]
     },
     "execution_count": 129,
     "metadata": {},
     "output_type": "execute_result"
    }
   ],
   "source": [
    "cat.sound()"
   ]
  },
  {
   "cell_type": "markdown",
   "metadata": {},
   "source": [
    "### CaseStudy: Library Management\n",
    "---"
   ]
  },
  {
   "cell_type": "code",
   "execution_count": 164,
   "metadata": {
    "collapsed": true
   },
   "outputs": [],
   "source": [
    "class Patron:\n",
    "    firstname = None\n",
    "    lastname = None\n",
    "    address = None\n",
    "    books = []\n",
    "    \n",
    "    def __repr__(self):\n",
    "        return '{} {}'.format(self.firstname, self.lastname)\n",
    "    \n",
    "    def has_book(self, bookid):\n",
    "        return bookid in self.books"
   ]
  },
  {
   "cell_type": "code",
   "execution_count": 165,
   "metadata": {
    "collapsed": true
   },
   "outputs": [],
   "source": [
    "class Student(Patron):\n",
    "    faculty = None\n",
    "    year = None\n",
    "    \n",
    "    def __init__(self, firstname, lastname, faculty, year):\n",
    "        self.firstname = firstname\n",
    "        self.lastname = lastname\n",
    "        self.faculty = faculty\n",
    "        self.year = year"
   ]
  },
  {
   "cell_type": "code",
   "execution_count": 166,
   "metadata": {
    "collapsed": true
   },
   "outputs": [],
   "source": [
    "class Staff(Patron):\n",
    "    department = None"
   ]
  },
  {
   "cell_type": "code",
   "execution_count": 167,
   "metadata": {
    "collapsed": true
   },
   "outputs": [],
   "source": [
    "class Book:\n",
    "    bookid = None\n",
    "    isbn = None\n",
    "    name = None\n",
    "    \n",
    "    def __init__(self, isbn, name):\n",
    "        self.isbn = isbn\n",
    "        self.name = name\n",
    "        self.bookid = 'MYLIB' + ':' + self.isbn\n",
    "    \n",
    "    def __repr__(self):\n",
    "        return self.bookid"
   ]
  },
  {
   "cell_type": "code",
   "execution_count": 168,
   "metadata": {
    "collapsed": true
   },
   "outputs": [],
   "source": [
    "class Teacher(Patron):\n",
    "    faculty = None\n",
    "    \n",
    "    def __init__(self, firstname, lastname, faculty):\n",
    "        self.firstname = firstname\n",
    "        self.lastname = lastname\n",
    "        self.faculty = faculty"
   ]
  },
  {
   "cell_type": "code",
   "execution_count": null,
   "metadata": {
    "collapsed": true
   },
   "outputs": [],
   "source": []
  },
  {
   "cell_type": "code",
   "execution_count": 169,
   "metadata": {
    "collapsed": false
   },
   "outputs": [],
   "source": [
    "english = Book(isbn='abc-8236482374', name='Learning Engligh in 21 days.')"
   ]
  },
  {
   "cell_type": "code",
   "execution_count": 170,
   "metadata": {
    "collapsed": true
   },
   "outputs": [],
   "source": [
    "math = Book(isbn='mth-283482347', name='Quick Calculus.')"
   ]
  },
  {
   "cell_type": "code",
   "execution_count": 171,
   "metadata": {
    "collapsed": true
   },
   "outputs": [],
   "source": [
    "nepali = Book(isbn='npl-293492834', name='बकमपबसिकमपवबसिकमप.')"
   ]
  },
  {
   "cell_type": "code",
   "execution_count": 172,
   "metadata": {
    "collapsed": true
   },
   "outputs": [],
   "source": [
    "class Shelve:\n",
    "    books = []\n",
    "    lended_books = []\n",
    "    \n",
    "    def is_book_available(self, bookid):\n",
    "        return bookid in self.books\n",
    "    \n",
    "    def is_book_lendable(self, bookid):\n",
    "        return bookid not in self.lended_books"
   ]
  },
  {
   "cell_type": "code",
   "execution_count": 173,
   "metadata": {
    "collapsed": true
   },
   "outputs": [],
   "source": [
    "my_library = Shelve()"
   ]
  },
  {
   "cell_type": "code",
   "execution_count": 152,
   "metadata": {
    "collapsed": false
   },
   "outputs": [
    {
     "data": {
      "text/plain": [
       "False"
      ]
     },
     "execution_count": 152,
     "metadata": {},
     "output_type": "execute_result"
    }
   ],
   "source": [
    "# Shelve.is_book_available(my_library, 'abc-123')"
   ]
  },
  {
   "cell_type": "code",
   "execution_count": 174,
   "metadata": {
    "collapsed": false
   },
   "outputs": [
    {
     "data": {
      "text/plain": [
       "False"
      ]
     },
     "execution_count": 174,
     "metadata": {},
     "output_type": "execute_result"
    }
   ],
   "source": [
    "my_library.is_book_available('abc-123')"
   ]
  },
  {
   "cell_type": "code",
   "execution_count": 175,
   "metadata": {
    "collapsed": true
   },
   "outputs": [],
   "source": [
    "my_library.books = [english, math, nepali]"
   ]
  },
  {
   "cell_type": "code",
   "execution_count": 176,
   "metadata": {
    "collapsed": false
   },
   "outputs": [
    {
     "data": {
      "text/plain": [
       "[MYLIB:abc-8236482374, MYLIB:mth-283482347, MYLIB:npl-293492834]"
      ]
     },
     "execution_count": 176,
     "metadata": {},
     "output_type": "execute_result"
    }
   ],
   "source": [
    "my_library.books"
   ]
  },
  {
   "cell_type": "code",
   "execution_count": null,
   "metadata": {
    "collapsed": true
   },
   "outputs": [],
   "source": [
    "ram "
   ]
  },
  {
   "cell_type": "code",
   "execution_count": 177,
   "metadata": {
    "collapsed": true
   },
   "outputs": [],
   "source": [
    "ram = Student('Ram', 'Thapa', 'Biology', '2nd')"
   ]
  },
  {
   "cell_type": "code",
   "execution_count": 178,
   "metadata": {
    "collapsed": false
   },
   "outputs": [
    {
     "data": {
      "text/plain": [
       "Ram Thapa"
      ]
     },
     "execution_count": 178,
     "metadata": {},
     "output_type": "execute_result"
    }
   ],
   "source": [
    "ram"
   ]
  },
  {
   "cell_type": "code",
   "execution_count": 179,
   "metadata": {
    "collapsed": false
   },
   "outputs": [
    {
     "data": {
      "text/plain": [
       "False"
      ]
     },
     "execution_count": 179,
     "metadata": {},
     "output_type": "execute_result"
    }
   ],
   "source": [
    "ram.has_book('ajsdajsd')"
   ]
  },
  {
   "cell_type": "code",
   "execution_count": null,
   "metadata": {
    "collapsed": true
   },
   "outputs": [],
   "source": []
  },
  {
   "cell_type": "code",
   "execution_count": null,
   "metadata": {
    "collapsed": true
   },
   "outputs": [],
   "source": []
  }
 ],
 "metadata": {
  "kernelspec": {
   "display_name": "Python 3",
   "language": "python",
   "name": "python3"
  },
  "language_info": {
   "codemirror_mode": {
    "name": "ipython",
    "version": 3
   },
   "file_extension": ".py",
   "mimetype": "text/x-python",
   "name": "python",
   "nbconvert_exporter": "python",
   "pygments_lexer": "ipython3",
   "version": "3.5.1"
  }
 },
 "nbformat": 4,
 "nbformat_minor": 0
}
